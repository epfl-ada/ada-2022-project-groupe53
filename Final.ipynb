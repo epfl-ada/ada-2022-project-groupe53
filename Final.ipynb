{
 "cells": [
  {
   "cell_type": "code",
   "execution_count": 1,
   "metadata": {},
   "outputs": [
    {
     "ename": "ModuleNotFoundError",
     "evalue": "No module named 'sentence_transformers'",
     "output_type": "error",
     "traceback": [
      "\u001b[0;31m---------------------------------------------------------------------------\u001b[0m",
      "\u001b[0;31mModuleNotFoundError\u001b[0m                       Traceback (most recent call last)",
      "Cell \u001b[0;32mIn [1], line 1\u001b[0m\n\u001b[0;32m----> 1\u001b[0m \u001b[39mimport\u001b[39;00m \u001b[39mArticleComparator\u001b[39;00m \u001b[39mas\u001b[39;00m \u001b[39mac\u001b[39;00m\n\u001b[1;32m      2\u001b[0m \u001b[39mfrom\u001b[39;00m \u001b[39mbs4\u001b[39;00m \u001b[39mimport\u001b[39;00m BeautifulSoup\n\u001b[1;32m      3\u001b[0m \u001b[39mimport\u001b[39;00m \u001b[39mcsv\u001b[39;00m \n",
      "File \u001b[0;32m~/projet_ada/ArticleComparator.py:3\u001b[0m\n\u001b[1;32m      1\u001b[0m \u001b[39mimport\u001b[39;00m \u001b[39mpandas\u001b[39;00m \u001b[39mas\u001b[39;00m \u001b[39mpd\u001b[39;00m\n\u001b[1;32m      2\u001b[0m \u001b[39mimport\u001b[39;00m \u001b[39mnumpy\u001b[39;00m \u001b[39mas\u001b[39;00m \u001b[39mnp\u001b[39;00m\n\u001b[0;32m----> 3\u001b[0m \u001b[39mfrom\u001b[39;00m \u001b[39msentence_transformers\u001b[39;00m \u001b[39mimport\u001b[39;00m SentenceTransformer\n\u001b[1;32m      6\u001b[0m \u001b[39m\"\"\"\u001b[39;00m\n\u001b[1;32m      7\u001b[0m \u001b[39mArticleComparator class uses BERT to compare articles. \u001b[39;00m\n\u001b[1;32m      8\u001b[0m \u001b[39mThe class takes in the path to plaintext articles and a list of articls names.\u001b[39;00m\n\u001b[0;32m   (...)\u001b[0m\n\u001b[1;32m     11\u001b[0m \u001b[39mThe compare_titles method takes in two articles titles and returns their similarity according to BERT model.\u001b[39;00m\n\u001b[1;32m     12\u001b[0m \u001b[39m\"\"\"\u001b[39;00m\n\u001b[1;32m     14\u001b[0m \u001b[39mclass\u001b[39;00m \u001b[39mArticleComparator\u001b[39;00m :\n",
      "\u001b[0;31mModuleNotFoundError\u001b[0m: No module named 'sentence_transformers'"
     ]
    }
   ],
   "source": [
    "import ArticleComparator as ac\n",
    "from bs4 import BeautifulSoup\n",
    "import csv \n",
    "import pandas as pd \n",
    "import numpy as np\n",
    "import seaborn as sns\n",
    "import matplotlib.pyplot as plt\n",
    "import pickle\n",
    "from Helper import *\n",
    "from Helper import update_links_df_position\n",
    "\n",
    "sns.set_context(\"paper\")\n",
    "sns.set_style(\"darkgrid\")\n",
    "sns.set_theme(palette=\"flare\")\n",
    "\n",
    "from graph import Graph"
   ]
  },
  {
   "cell_type": "code",
   "execution_count": null,
   "metadata": {},
   "outputs": [],
   "source": [
    "truth_graph = Graph()\n",
    "truth_graph.update_graph(\"data/categories.tsv\", mode='Initialization', verbose=False )\n",
    "truth_graph.update_graph(\"data/links.tsv\", mode='g', verbose=False)"
   ]
  },
  {
   "cell_type": "code",
   "execution_count": null,
   "metadata": {},
   "outputs": [],
   "source": [
    "cs_graph = Graph()\n",
    "cs_graph.update_graph(\"data/categories.tsv\", mode='Initialization', verbose=False )\n",
    "cs_graph.update_graph(\"data/paths_finished.tsv\", mode='common_sense_edges', verbose=False) \n",
    "cs_graph.update_graph(\"data/paths_unfinished.tsv\", mode='common_sense_edges', verbose=False) "
   ]
  },
  {
   "attachments": {},
   "cell_type": "markdown",
   "metadata": {},
   "source": [
    "---\n",
    "---"
   ]
  },
  {
   "attachments": {},
   "cell_type": "markdown",
   "metadata": {},
   "source": [
    "### 4. The Influence of the article topology on human behavior:"
   ]
  },
  {
   "attachments": {},
   "cell_type": "markdown",
   "metadata": {},
   "source": [
    "In this section, we will try to understand the influence of the article topology on human behavior. We will try to answer the following questions: <br>\n",
    "\n",
    "1. How does the click rate on a link evolve with is position in the article?<br>\n",
    "\n",
    "2. How does the proportion of clicked links evolve with number of exiting links in an article? <br>"
   ]
  },
  {
   "attachments": {},
   "cell_type": "markdown",
   "metadata": {},
   "source": [
    "Both our tasks need informations about the position of the links in each article. To do so let's first create a new data frame, the `links_df` that contains all the exiting links in an article and the number of exiting links in an article. <br>\n",
    "This dataframe will contain the following columns: <br>\n",
    "- `From`: the article from which the link is outgoing <br>\n",
    "- `To`: the article to which the link is incomming <br>\n",
    "- `positions`: the positions at whitch the `To` artical appears in the `From` article <br>\n",
    "- `n_links`: The total number of exiting links in the `From` article <br>"
   ]
  },
  {
   "attachments": {},
   "cell_type": "markdown",
   "metadata": {},
   "source": [
    "First we fetch all the links from the `links.tsv` file in order to initialize `From` and `To` entries. <br>"
   ]
  },
  {
   "cell_type": "code",
   "execution_count": null,
   "metadata": {},
   "outputs": [
    {
     "data": {
      "text/html": [
       "<div>\n",
       "<style scoped>\n",
       "    .dataframe tbody tr th:only-of-type {\n",
       "        vertical-align: middle;\n",
       "    }\n",
       "\n",
       "    .dataframe tbody tr th {\n",
       "        vertical-align: top;\n",
       "    }\n",
       "\n",
       "    .dataframe thead th {\n",
       "        text-align: right;\n",
       "    }\n",
       "</style>\n",
       "<table border=\"1\" class=\"dataframe\">\n",
       "  <thead>\n",
       "    <tr style=\"text-align: right;\">\n",
       "      <th></th>\n",
       "      <th>From</th>\n",
       "      <th>To</th>\n",
       "    </tr>\n",
       "  </thead>\n",
       "  <tbody>\n",
       "    <tr>\n",
       "      <th>86798</th>\n",
       "      <td>Poland</td>\n",
       "      <td>Napoleon_I_of_France</td>\n",
       "    </tr>\n",
       "    <tr>\n",
       "      <th>23591</th>\n",
       "      <td>Chinese_language</td>\n",
       "      <td>Arabic_language</td>\n",
       "    </tr>\n",
       "    <tr>\n",
       "      <th>116582</th>\n",
       "      <td>Westminster_Abbey</td>\n",
       "      <td>Stratford-upon-Avon</td>\n",
       "    </tr>\n",
       "    <tr>\n",
       "      <th>101073</th>\n",
       "      <td>Space_Shuttle_Columbia_disaster</td>\n",
       "      <td>Earth%27s_atmosphere</td>\n",
       "    </tr>\n",
       "    <tr>\n",
       "      <th>114311</th>\n",
       "      <td>Vinaya</td>\n",
       "      <td>Buddhism</td>\n",
       "    </tr>\n",
       "  </tbody>\n",
       "</table>\n",
       "</div>"
      ],
      "text/plain": [
       "                                   From                    To\n",
       "86798                            Poland  Napoleon_I_of_France\n",
       "23591                  Chinese_language       Arabic_language\n",
       "116582                Westminster_Abbey   Stratford-upon-Avon\n",
       "101073  Space_Shuttle_Columbia_disaster  Earth%27s_atmosphere\n",
       "114311                           Vinaya              Buddhism"
      ]
     },
     "execution_count": 4,
     "metadata": {},
     "output_type": "execute_result"
    }
   ],
   "source": [
    "links_df = create_links_df()\n",
    "links_df.sample(5)"
   ]
  },
  {
   "attachments": {},
   "cell_type": "markdown",
   "metadata": {},
   "source": [
    "Then we retreive the `positions` of each link is each article using the `.html` files. We do so because it is the only to find them in **the order of apparition in each article**. <br> In this task we use the `BeautifulSoup` library to parse the `.html` files. <br>\n",
    "Finally we add the `n_links` column to the dataframe. <br>"
   ]
  },
  {
   "cell_type": "code",
   "execution_count": null,
   "metadata": {},
   "outputs": [],
   "source": [
    "update_links_df_position(links_df, truth_graph)"
   ]
  },
  {
   "cell_type": "code",
   "execution_count": null,
   "metadata": {},
   "outputs": [
    {
     "data": {
      "text/html": [
       "<div>\n",
       "<style scoped>\n",
       "    .dataframe tbody tr th:only-of-type {\n",
       "        vertical-align: middle;\n",
       "    }\n",
       "\n",
       "    .dataframe tbody tr th {\n",
       "        vertical-align: top;\n",
       "    }\n",
       "\n",
       "    .dataframe thead th {\n",
       "        text-align: right;\n",
       "    }\n",
       "</style>\n",
       "<table border=\"1\" class=\"dataframe\">\n",
       "  <thead>\n",
       "    <tr style=\"text-align: right;\">\n",
       "      <th></th>\n",
       "      <th>From</th>\n",
       "      <th>To</th>\n",
       "      <th>positions</th>\n",
       "      <th>nb_links</th>\n",
       "    </tr>\n",
       "  </thead>\n",
       "  <tbody>\n",
       "    <tr>\n",
       "      <th>19164</th>\n",
       "      <td>Burkina_Faso</td>\n",
       "      <td>AIDS</td>\n",
       "      <td>[39]</td>\n",
       "      <td>43</td>\n",
       "    </tr>\n",
       "    <tr>\n",
       "      <th>86889</th>\n",
       "      <td>Police</td>\n",
       "      <td>Max_Weber</td>\n",
       "      <td>[14]</td>\n",
       "      <td>73</td>\n",
       "    </tr>\n",
       "    <tr>\n",
       "      <th>11871</th>\n",
       "      <td>Baby_Gender_Mentor</td>\n",
       "      <td>China</td>\n",
       "      <td>[5]</td>\n",
       "      <td>8</td>\n",
       "    </tr>\n",
       "    <tr>\n",
       "      <th>102891</th>\n",
       "      <td>Stuttering</td>\n",
       "      <td>England</td>\n",
       "      <td>[19]</td>\n",
       "      <td>30</td>\n",
       "    </tr>\n",
       "    <tr>\n",
       "      <th>114429</th>\n",
       "      <td>Virus</td>\n",
       "      <td>AIDS</td>\n",
       "      <td>[5, 23]</td>\n",
       "      <td>37</td>\n",
       "    </tr>\n",
       "  </tbody>\n",
       "</table>\n",
       "</div>"
      ],
      "text/plain": [
       "                      From         To positions  nb_links\n",
       "19164         Burkina_Faso       AIDS      [39]        43\n",
       "86889               Police  Max_Weber      [14]        73\n",
       "11871   Baby_Gender_Mentor      China       [5]         8\n",
       "102891          Stuttering    England      [19]        30\n",
       "114429               Virus       AIDS   [5, 23]        37"
      ]
     },
     "execution_count": 6,
     "metadata": {},
     "output_type": "execute_result"
    }
   ],
   "source": [
    "# drop nan values\n",
    "links_df.dropna(inplace=True)\n",
    "# nb_links column contains only int values\n",
    "links_df['nb_links'] = links_df['nb_links'].astype(int)\n",
    "links_df.sample(5)"
   ]
  },
  {
   "attachments": {},
   "cell_type": "markdown",
   "metadata": {},
   "source": [
    "Now that our dataframe is ready, we can start answering our questions."
   ]
  },
  {
   "attachments": {},
   "cell_type": "markdown",
   "metadata": {},
   "source": [
    "#### 4.1. How does the click rate on a link evolve with is position in the article?"
   ]
  },
  {
   "attachments": {},
   "cell_type": "markdown",
   "metadata": {},
   "source": [
    "The weight is the adjacency matrix of our commun sense graph is our metric for the click rate.  <br>\n",
    "Thus we add a new column to the links_df dataframe that contains the `weight` of each link. <br>"
   ]
  },
  {
   "cell_type": "code",
   "execution_count": null,
   "metadata": {},
   "outputs": [
    {
     "name": "stdout",
     "output_type": "stream",
     "text": [
      "Number of links in the dataframe:  119879\n"
     ]
    },
    {
     "data": {
      "text/html": [
       "<div>\n",
       "<style scoped>\n",
       "    .dataframe tbody tr th:only-of-type {\n",
       "        vertical-align: middle;\n",
       "    }\n",
       "\n",
       "    .dataframe tbody tr th {\n",
       "        vertical-align: top;\n",
       "    }\n",
       "\n",
       "    .dataframe thead th {\n",
       "        text-align: right;\n",
       "    }\n",
       "</style>\n",
       "<table border=\"1\" class=\"dataframe\">\n",
       "  <thead>\n",
       "    <tr style=\"text-align: right;\">\n",
       "      <th></th>\n",
       "      <th>From</th>\n",
       "      <th>To</th>\n",
       "      <th>positions</th>\n",
       "      <th>nb_links</th>\n",
       "      <th>weight</th>\n",
       "    </tr>\n",
       "  </thead>\n",
       "  <tbody>\n",
       "    <tr>\n",
       "      <th>58473</th>\n",
       "      <td>Jersey_Zoological_Park</td>\n",
       "      <td>Chimpanzee</td>\n",
       "      <td>[11]</td>\n",
       "      <td>12</td>\n",
       "      <td>0</td>\n",
       "    </tr>\n",
       "    <tr>\n",
       "      <th>39101</th>\n",
       "      <td>Fertile_Crescent</td>\n",
       "      <td>Cattle</td>\n",
       "      <td>[28]</td>\n",
       "      <td>32</td>\n",
       "      <td>2</td>\n",
       "    </tr>\n",
       "    <tr>\n",
       "      <th>69726</th>\n",
       "      <td>Margaret_Thatcher</td>\n",
       "      <td>Chemistry</td>\n",
       "      <td>[9]</td>\n",
       "      <td>96</td>\n",
       "      <td>1</td>\n",
       "    </tr>\n",
       "    <tr>\n",
       "      <th>31266</th>\n",
       "      <td>Djibouti</td>\n",
       "      <td>United_States</td>\n",
       "      <td>[17]</td>\n",
       "      <td>359</td>\n",
       "      <td>2</td>\n",
       "    </tr>\n",
       "    <tr>\n",
       "      <th>103954</th>\n",
       "      <td>Super_Chief</td>\n",
       "      <td>San_Diegan</td>\n",
       "      <td>[7]</td>\n",
       "      <td>17</td>\n",
       "      <td>0</td>\n",
       "    </tr>\n",
       "  </tbody>\n",
       "</table>\n",
       "</div>"
      ],
      "text/plain": [
       "                          From             To positions  nb_links  weight\n",
       "58473   Jersey_Zoological_Park     Chimpanzee      [11]        12       0\n",
       "39101         Fertile_Crescent         Cattle      [28]        32       2\n",
       "69726        Margaret_Thatcher      Chemistry       [9]        96       1\n",
       "31266                 Djibouti  United_States      [17]       359       2\n",
       "103954             Super_Chief     San_Diegan       [7]        17       0"
      ]
     },
     "execution_count": 7,
     "metadata": {},
     "output_type": "execute_result"
    }
   ],
   "source": [
    "update_link_df_weights(links_df, cs_graph)\n",
    "print(\"Number of links in the dataframe: \", len(links_df))\n",
    "links_df.sample(5)"
   ]
  },
  {
   "attachments": {},
   "cell_type": "markdown",
   "metadata": {},
   "source": [
    "Since we want to investigate the effect of the weight on the position of the link, we will keep only the links that have a unique occurence in the article to avoid any bias. <br>"
   ]
  },
  {
   "cell_type": "code",
   "execution_count": null,
   "metadata": {},
   "outputs": [],
   "source": [
    "# keep only the positions that are arrays\n",
    "filtred_links_df = links_df[links_df['positions'].apply(lambda x: isinstance(x, list))]\n",
    "# keep only the positions that are arrays of length 1\n",
    "filtred_links_df = filtred_links_df[filtred_links_df['positions'].apply(lambda x: len(x)==1)]\n",
    "# store positions as int\n",
    "filtred_links_df['positions'] = filtred_links_df['positions'].apply(lambda x: int(x[0]))\n",
    "# Add a column with relative position which is position/nb_links\n",
    "filtred_links_df['relative_position'] = filtred_links_df.apply(lambda row: round(row['positions']/row['nb_links'],2)*100, axis=1)"
   ]
  },
  {
   "cell_type": "code",
   "execution_count": null,
   "metadata": {},
   "outputs": [
    {
     "name": "stdout",
     "output_type": "stream",
     "text": [
      "Number of links in the dataframe after filtering non unique links:  89080\n"
     ]
    },
    {
     "data": {
      "text/html": [
       "<div>\n",
       "<style scoped>\n",
       "    .dataframe tbody tr th:only-of-type {\n",
       "        vertical-align: middle;\n",
       "    }\n",
       "\n",
       "    .dataframe tbody tr th {\n",
       "        vertical-align: top;\n",
       "    }\n",
       "\n",
       "    .dataframe thead th {\n",
       "        text-align: right;\n",
       "    }\n",
       "</style>\n",
       "<table border=\"1\" class=\"dataframe\">\n",
       "  <thead>\n",
       "    <tr style=\"text-align: right;\">\n",
       "      <th></th>\n",
       "      <th>From</th>\n",
       "      <th>To</th>\n",
       "      <th>positions</th>\n",
       "      <th>nb_links</th>\n",
       "      <th>weight</th>\n",
       "      <th>relative_position</th>\n",
       "    </tr>\n",
       "  </thead>\n",
       "  <tbody>\n",
       "    <tr>\n",
       "      <th>11048</th>\n",
       "      <td>Australian_Ringneck</td>\n",
       "      <td>Chordate</td>\n",
       "      <td>2</td>\n",
       "      <td>7</td>\n",
       "      <td>0</td>\n",
       "      <td>29.0</td>\n",
       "    </tr>\n",
       "    <tr>\n",
       "      <th>119310</th>\n",
       "      <td>Zambezi</td>\n",
       "      <td>Bull_shark</td>\n",
       "      <td>47</td>\n",
       "      <td>59</td>\n",
       "      <td>0</td>\n",
       "      <td>80.0</td>\n",
       "    </tr>\n",
       "    <tr>\n",
       "      <th>51241</th>\n",
       "      <td>History_of_slavery</td>\n",
       "      <td>British_Empire</td>\n",
       "      <td>60</td>\n",
       "      <td>97</td>\n",
       "      <td>0</td>\n",
       "      <td>62.0</td>\n",
       "    </tr>\n",
       "    <tr>\n",
       "      <th>23941</th>\n",
       "      <td>Christmas_Island</td>\n",
       "      <td>China</td>\n",
       "      <td>12</td>\n",
       "      <td>39</td>\n",
       "      <td>0</td>\n",
       "      <td>31.0</td>\n",
       "    </tr>\n",
       "    <tr>\n",
       "      <th>104962</th>\n",
       "      <td>Taipei</td>\n",
       "      <td>Mbabane</td>\n",
       "      <td>54</td>\n",
       "      <td>66</td>\n",
       "      <td>0</td>\n",
       "      <td>82.0</td>\n",
       "    </tr>\n",
       "  </tbody>\n",
       "</table>\n",
       "</div>"
      ],
      "text/plain": [
       "                       From              To  positions  nb_links  weight  \\\n",
       "11048   Australian_Ringneck        Chordate          2         7       0   \n",
       "119310              Zambezi      Bull_shark         47        59       0   \n",
       "51241    History_of_slavery  British_Empire         60        97       0   \n",
       "23941      Christmas_Island           China         12        39       0   \n",
       "104962               Taipei         Mbabane         54        66       0   \n",
       "\n",
       "        relative_position  \n",
       "11048                29.0  \n",
       "119310               80.0  \n",
       "51241                62.0  \n",
       "23941                31.0  \n",
       "104962               82.0  "
      ]
     },
     "execution_count": 32,
     "metadata": {},
     "output_type": "execute_result"
    }
   ],
   "source": [
    "print(\"Number of links in the dataframe after filtering non unique links: \", len(filtred_links_df))\n",
    "filtred_links_df.sample(5)"
   ]
  },
  {
   "attachments": {},
   "cell_type": "markdown",
   "metadata": {},
   "source": [
    "We plot the average weight for each relative position without duplicates in the CS graph."
   ]
  },
  {
   "cell_type": "code",
   "execution_count": null,
   "metadata": {},
   "outputs": [
    {
     "ename": "NameError",
     "evalue": "name 'plt' is not defined",
     "output_type": "error",
     "traceback": [
      "\u001b[0;31m---------------------------------------------------------------------------\u001b[0m",
      "\u001b[0;31mNameError\u001b[0m                                 Traceback (most recent call last)",
      "\u001b[0;32m/var/folders/zp/t_7t2xyj4n760sxfr2jkq6z40000gn/T/ipykernel_9968/230487885.py\u001b[0m in \u001b[0;36m<module>\u001b[0;34m\u001b[0m\n\u001b[1;32m      1\u001b[0m \u001b[0;31m# plot average weight for each relative_position_duplicates\u001b[0m\u001b[0;34m\u001b[0m\u001b[0;34m\u001b[0m\u001b[0;34m\u001b[0m\u001b[0m\n\u001b[0;32m----> 2\u001b[0;31m \u001b[0mplt\u001b[0m\u001b[0;34m.\u001b[0m\u001b[0mfigure\u001b[0m\u001b[0;34m(\u001b[0m\u001b[0mfigsize\u001b[0m\u001b[0;34m=\u001b[0m\u001b[0;34m(\u001b[0m\u001b[0;36m20\u001b[0m\u001b[0;34m,\u001b[0m\u001b[0;36m10\u001b[0m\u001b[0;34m)\u001b[0m\u001b[0;34m)\u001b[0m\u001b[0;34m\u001b[0m\u001b[0;34m\u001b[0m\u001b[0m\n\u001b[0m\u001b[1;32m      3\u001b[0m \u001b[0;31m# Plot the average weight for each relative position without duplicates in the CS graph\u001b[0m\u001b[0;34m\u001b[0m\u001b[0;34m\u001b[0m\u001b[0;34m\u001b[0m\u001b[0m\n\u001b[1;32m      4\u001b[0m \u001b[0msns\u001b[0m\u001b[0;34m.\u001b[0m\u001b[0mlineplot\u001b[0m\u001b[0;34m(\u001b[0m\u001b[0mx\u001b[0m\u001b[0;34m=\u001b[0m\u001b[0mfiltred_links_df\u001b[0m\u001b[0;34m.\u001b[0m\u001b[0mrelative_position\u001b[0m\u001b[0;34m,\u001b[0m \u001b[0my\u001b[0m\u001b[0;34m=\u001b[0m\u001b[0mfiltred_links_df\u001b[0m\u001b[0;34m.\u001b[0m\u001b[0mweight\u001b[0m\u001b[0;34m,\u001b[0m \u001b[0mdata\u001b[0m\u001b[0;34m=\u001b[0m\u001b[0mfiltred_links_df\u001b[0m\u001b[0;34m,\u001b[0m \u001b[0mlabel\u001b[0m\u001b[0;34m=\u001b[0m\u001b[0;34m\"Average weight for each relative position with duplicates in the CS graph\"\u001b[0m\u001b[0;34m,\u001b[0m\u001b[0mlegend\u001b[0m\u001b[0;34m=\u001b[0m\u001b[0;34m'full'\u001b[0m\u001b[0;34m,\u001b[0m \u001b[0merrorbar\u001b[0m\u001b[0;34m=\u001b[0m\u001b[0;34m(\u001b[0m\u001b[0;34m'ci'\u001b[0m\u001b[0;34m,\u001b[0m \u001b[0;36m95\u001b[0m\u001b[0;34m)\u001b[0m \u001b[0;34m)\u001b[0m\u001b[0;34m\u001b[0m\u001b[0;34m\u001b[0m\u001b[0m\n\u001b[1;32m      5\u001b[0m \u001b[0;31m# Add regression line\u001b[0m\u001b[0;34m\u001b[0m\u001b[0;34m\u001b[0m\u001b[0;34m\u001b[0m\u001b[0m\n",
      "\u001b[0;31mNameError\u001b[0m: name 'plt' is not defined"
     ]
    }
   ],
   "source": [
    "# plot average weight for each relative_position_duplicates\n",
    "plt.figure(figsize=(20,10))\n",
    "# Plot the average weight for each relative position without duplicates in the CS graph\n",
    "sns.lineplot(x=filtred_links_df.relative_position, y=filtred_links_df.weight, data=filtred_links_df, label=\"Average weight for each relative position with duplicates in the CS graph\",legend='full', errorbar=('ci', 95) )\n",
    "# Add regression line\n",
    "sns.regplot(x=filtred_links_df.relative_position, y=filtred_links_df.weight, data=filtred_links_df, scatter=False, color=\"red\", label=\"Regression line of order 4\", order= 4)\n",
    "# legend for ci \n",
    "plt.legend(loc='upper right')\n",
    "\n",
    "\n",
    "plt.title(\"Average weight for each relative position with duplicates in the CS graph\")\n",
    "plt.show()"
   ]
  },
  {
   "attachments": {},
   "cell_type": "markdown",
   "metadata": {},
   "source": [
    "We can clearly see a downtrend of the weight as a function of the relative position of the link inside the articles.<br>\n",
    "\n",
    "Links at the beginning of the article are **3 times** more likely to be clicked on than links at later stage of the article : The average weight of a link at around the 1st percentage of the article $\\simeq 4,5$ , while it is $\\simeq 1,5$ at 80% of the article. <br>\n",
    "&rarr; This means that links in the beginning of the article are more likely to be clicked on. <br>\n",
    "\n",
    "This clearly shows that the relative position of the link in the article is determinant on whether the user will click on it or not.\n"
   ]
  },
  {
   "attachments": {},
   "cell_type": "markdown",
   "metadata": {},
   "source": [
    "\n",
    "# TODO : add legend ?"
   ]
  },
  {
   "cell_type": "code",
   "execution_count": null,
   "metadata": {},
   "outputs": [],
   "source": []
  },
  {
   "attachments": {},
   "cell_type": "markdown",
   "metadata": {},
   "source": [
    "#### 2. How does the proportion of clicked links evolve with number of exiting links in an article? <br>"
   ]
  },
  {
   "attachments": {},
   "cell_type": "markdown",
   "metadata": {},
   "source": [
    "Let's get back to our `links_df` dataframe. <br>"
   ]
  },
  {
   "cell_type": "code",
   "execution_count": null,
   "metadata": {},
   "outputs": [
    {
     "data": {
      "text/html": [
       "<div>\n",
       "<style scoped>\n",
       "    .dataframe tbody tr th:only-of-type {\n",
       "        vertical-align: middle;\n",
       "    }\n",
       "\n",
       "    .dataframe tbody tr th {\n",
       "        vertical-align: top;\n",
       "    }\n",
       "\n",
       "    .dataframe thead th {\n",
       "        text-align: right;\n",
       "    }\n",
       "</style>\n",
       "<table border=\"1\" class=\"dataframe\">\n",
       "  <thead>\n",
       "    <tr style=\"text-align: right;\">\n",
       "      <th></th>\n",
       "      <th>From</th>\n",
       "      <th>To</th>\n",
       "      <th>positions</th>\n",
       "      <th>nb_links</th>\n",
       "      <th>weight</th>\n",
       "    </tr>\n",
       "  </thead>\n",
       "  <tbody>\n",
       "    <tr>\n",
       "      <th>109476</th>\n",
       "      <td>Tower_Bridge</td>\n",
       "      <td>Steam_engine</td>\n",
       "      <td>[12]</td>\n",
       "      <td>17</td>\n",
       "      <td>1</td>\n",
       "    </tr>\n",
       "    <tr>\n",
       "      <th>94875</th>\n",
       "      <td>Saladin</td>\n",
       "      <td>Walter_Scott</td>\n",
       "      <td>[23]</td>\n",
       "      <td>31</td>\n",
       "      <td>0</td>\n",
       "    </tr>\n",
       "    <tr>\n",
       "      <th>96782</th>\n",
       "      <td>Sculpture</td>\n",
       "      <td>Poland</td>\n",
       "      <td>[24]</td>\n",
       "      <td>32</td>\n",
       "      <td>1</td>\n",
       "    </tr>\n",
       "    <tr>\n",
       "      <th>1078</th>\n",
       "      <td>1st_century</td>\n",
       "      <td>6th_century</td>\n",
       "      <td>[24]</td>\n",
       "      <td>40</td>\n",
       "      <td>0</td>\n",
       "    </tr>\n",
       "    <tr>\n",
       "      <th>61130</th>\n",
       "      <td>King_Kong_%282005_film%29</td>\n",
       "      <td>Sumatra</td>\n",
       "      <td>[5]</td>\n",
       "      <td>16</td>\n",
       "      <td>0</td>\n",
       "    </tr>\n",
       "  </tbody>\n",
       "</table>\n",
       "</div>"
      ],
      "text/plain": [
       "                             From            To positions  nb_links  weight\n",
       "109476               Tower_Bridge  Steam_engine      [12]        17       1\n",
       "94875                     Saladin  Walter_Scott      [23]        31       0\n",
       "96782                   Sculpture        Poland      [24]        32       1\n",
       "1078                  1st_century   6th_century      [24]        40       0\n",
       "61130   King_Kong_%282005_film%29       Sumatra       [5]        16       0"
      ]
     },
     "execution_count": 37,
     "metadata": {},
     "output_type": "execute_result"
    }
   ],
   "source": [
    "links_df.sample(5)"
   ]
  },
  {
   "cell_type": "code",
   "execution_count": null,
   "metadata": {},
   "outputs": [],
   "source": []
  }
 ],
 "metadata": {
  "kernelspec": {
   "display_name": "ada",
   "language": "python",
   "name": "python3"
  },
  "language_info": {
   "codemirror_mode": {
    "name": "ipython",
    "version": 3
   },
   "file_extension": ".py",
   "mimetype": "text/x-python",
   "name": "python",
   "nbconvert_exporter": "python",
   "pygments_lexer": "ipython3",
   "version": "3.9.13"
  },
  "vscode": {
   "interpreter": {
    "hash": "61884c9ac8faeca78a230e1ee3f2668436aff69fca97c175c7365f4a10e07026"
   }
  }
 },
 "nbformat": 4,
 "nbformat_minor": 2
}
