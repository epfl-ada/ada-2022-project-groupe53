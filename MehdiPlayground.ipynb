{
 "cells": [
  {
   "cell_type": "code",
   "execution_count": 441,
   "metadata": {},
   "outputs": [],
   "source": [
    "import ArticleComparator as ac\n",
    "import csv \n",
    "import pandas as pd \n",
    "import numpy as np\n",
    "import seaborn as sns\n",
    "import matplotlib.pyplot as plt\n",
    "import pickle\n",
    "\n",
    "sns.set_context(\"paper\")\n",
    "sns.set_style(\"darkgrid\")\n",
    "sns.set_theme(palette=\"flare\")\n",
    "\n",
    "from graph import Graph"
   ]
  },
  {
   "cell_type": "code",
   "execution_count": 442,
   "metadata": {},
   "outputs": [],
   "source": [
    "truth_graph = Graph()\n",
    "truth_graph.update_graph(\"data/categories.tsv\", mode='Initialization', verbose=False )\n",
    "truth_graph.update_graph(\"data/links.tsv\", mode='g', verbose=False)"
   ]
  },
  {
   "attachments": {},
   "cell_type": "markdown",
   "metadata": {},
   "source": [
    "# Exploring the graph gided by semantics:"
   ]
  },
  {
   "attachments": {},
   "cell_type": "markdown",
   "metadata": {},
   "source": [
    "**The idea of this part is to understand how people hwo won the game did to navigate through this huge graph. More specifically we try to see how semantic did influnce the chosen paths.**"
   ]
  },
  {
   "attachments": {},
   "cell_type": "markdown",
   "metadata": {},
   "source": [
    "To do so we first start by creating a dataframe that contains all the finished paths.\n",
    "The data frame will have 4 entries at this stage :\n",
    "- The path : which is the list of nodes that the player went through\n",
    "- Start : the starting node\n",
    "- End : the ending node\n",
    "- length : the length of the path\n",
    "\n",
    "However we will discard paths where backclicking is done."
   ]
  },
  {
   "cell_type": "code",
   "execution_count": 606,
   "metadata": {},
   "outputs": [
    {
     "name": "stdout",
     "output_type": "stream",
     "text": [
      "Discarded paths due to backclicks:  9052\n",
      "Number of paths retained:  42266\n"
     ]
    }
   ],
   "source": [
    "# Create a df with path, start, end, length\n",
    "df_paths_finished = pd.DataFrame(columns=['path', 'start', 'end', 'length'])\n",
    "counter = 0\n",
    "discarded_paths = 0\n",
    "\n",
    "# Read the paths from the paths_finished.tsv file\n",
    "with open(\"data/paths_finished.tsv\",encoding=\"utf8\") as file:\n",
    "            tsv_file = csv.reader(file, delimiter=\"\\t\")\n",
    "            #For each line in the file\n",
    "            for line in tsv_file:\n",
    "                # Skip empty or commented lines \n",
    "                if len(line)==0 or line[0].startswith(\"#\"):\n",
    "                    continue\n",
    "                else:   \n",
    "                    path = line[3].split(';')\n",
    "                    if path.__contains__('<') or path.__contains__('Pikachu'):\n",
    "                        discarded_paths += 1\n",
    "                        continue\n",
    "                    # Set the start node as the fist node in the path\n",
    "                    start = path[0]\n",
    "                    # Set the end node as the last node in the path\n",
    "                    end = path[-1]\n",
    "                    # Set the length of the path\n",
    "                    length = len(path)\n",
    "                    # Add the path to the dataframe\n",
    "                    df_paths_finished.loc[counter] = [path, start, end, length]\n",
    "                    counter += 1\n",
    "print(\"Discarded paths due to backclicks: \", discarded_paths)\n",
    "print(\"Number of paths retained: \", len(df_paths_finished))"
   ]
  },
  {
   "attachments": {},
   "cell_type": "markdown",
   "metadata": {},
   "source": [
    "For obvious reasons we will also discard trivial paths (length 1)"
   ]
  },
  {
   "cell_type": "code",
   "execution_count": 607,
   "metadata": {},
   "outputs": [
    {
     "name": "stdout",
     "output_type": "stream",
     "text": [
      "Number of trivial paths:  11\n"
     ]
    }
   ],
   "source": [
    "print(\"Number of trivial paths: \", len(df_paths_finished[df_paths_finished['length'] == 1]))\n",
    "df_paths_finished = df_paths_finished[df_paths_finished['length'] > 1]"
   ]
  },
  {
   "cell_type": "code",
   "execution_count": 608,
   "metadata": {},
   "outputs": [
    {
     "data": {
      "text/html": [
       "<div>\n",
       "<style scoped>\n",
       "    .dataframe tbody tr th:only-of-type {\n",
       "        vertical-align: middle;\n",
       "    }\n",
       "\n",
       "    .dataframe tbody tr th {\n",
       "        vertical-align: top;\n",
       "    }\n",
       "\n",
       "    .dataframe thead th {\n",
       "        text-align: right;\n",
       "    }\n",
       "</style>\n",
       "<table border=\"1\" class=\"dataframe\">\n",
       "  <thead>\n",
       "    <tr style=\"text-align: right;\">\n",
       "      <th></th>\n",
       "      <th>path</th>\n",
       "      <th>start</th>\n",
       "      <th>end</th>\n",
       "      <th>length</th>\n",
       "    </tr>\n",
       "  </thead>\n",
       "  <tbody>\n",
       "    <tr>\n",
       "      <th>0</th>\n",
       "      <td>[14th_century, 15th_century, 16th_century, Pac...</td>\n",
       "      <td>14th_century</td>\n",
       "      <td>African_slave_trade</td>\n",
       "      <td>9</td>\n",
       "    </tr>\n",
       "    <tr>\n",
       "      <th>1</th>\n",
       "      <td>[14th_century, Europe, Africa, Atlantic_slave_...</td>\n",
       "      <td>14th_century</td>\n",
       "      <td>African_slave_trade</td>\n",
       "      <td>5</td>\n",
       "    </tr>\n",
       "    <tr>\n",
       "      <th>2</th>\n",
       "      <td>[14th_century, Niger, Nigeria, British_Empire,...</td>\n",
       "      <td>14th_century</td>\n",
       "      <td>African_slave_trade</td>\n",
       "      <td>8</td>\n",
       "    </tr>\n",
       "    <tr>\n",
       "      <th>3</th>\n",
       "      <td>[14th_century, Renaissance, Ancient_Greece, Gr...</td>\n",
       "      <td>14th_century</td>\n",
       "      <td>Greece</td>\n",
       "      <td>4</td>\n",
       "    </tr>\n",
       "    <tr>\n",
       "      <th>4</th>\n",
       "      <td>[14th_century, Italy, Roman_Catholic_Church, H...</td>\n",
       "      <td>14th_century</td>\n",
       "      <td>John_F._Kennedy</td>\n",
       "      <td>7</td>\n",
       "    </tr>\n",
       "    <tr>\n",
       "      <th>...</th>\n",
       "      <td>...</td>\n",
       "      <td>...</td>\n",
       "      <td>...</td>\n",
       "      <td>...</td>\n",
       "    </tr>\n",
       "    <tr>\n",
       "      <th>42261</th>\n",
       "      <td>[Work_%28thermodynamics%29, Energy, Aristotle,...</td>\n",
       "      <td>Work_%28thermodynamics%29</td>\n",
       "      <td>Film</td>\n",
       "      <td>13</td>\n",
       "    </tr>\n",
       "    <tr>\n",
       "      <th>42262</th>\n",
       "      <td>[Yagan, Ancient_Egypt, Civilization]</td>\n",
       "      <td>Yagan</td>\n",
       "      <td>Civilization</td>\n",
       "      <td>3</td>\n",
       "    </tr>\n",
       "    <tr>\n",
       "      <th>42263</th>\n",
       "      <td>[Yagan, Australia, England, France, United_Sta...</td>\n",
       "      <td>Yagan</td>\n",
       "      <td>U.S._Open_%28tennis%29</td>\n",
       "      <td>7</td>\n",
       "    </tr>\n",
       "    <tr>\n",
       "      <th>42264</th>\n",
       "      <td>[Yarralumla%2C_Australian_Capital_Territory, A...</td>\n",
       "      <td>Yarralumla%2C_Australian_Capital_Territory</td>\n",
       "      <td>Abraham_Lincoln</td>\n",
       "      <td>4</td>\n",
       "    </tr>\n",
       "    <tr>\n",
       "      <th>42265</th>\n",
       "      <td>[Ziad_Jarrah, Germany, Jew]</td>\n",
       "      <td>Ziad_Jarrah</td>\n",
       "      <td>Jew</td>\n",
       "      <td>3</td>\n",
       "    </tr>\n",
       "  </tbody>\n",
       "</table>\n",
       "<p>42255 rows × 4 columns</p>\n",
       "</div>"
      ],
      "text/plain": [
       "                                                    path  \\\n",
       "0      [14th_century, 15th_century, 16th_century, Pac...   \n",
       "1      [14th_century, Europe, Africa, Atlantic_slave_...   \n",
       "2      [14th_century, Niger, Nigeria, British_Empire,...   \n",
       "3      [14th_century, Renaissance, Ancient_Greece, Gr...   \n",
       "4      [14th_century, Italy, Roman_Catholic_Church, H...   \n",
       "...                                                  ...   \n",
       "42261  [Work_%28thermodynamics%29, Energy, Aristotle,...   \n",
       "42262               [Yagan, Ancient_Egypt, Civilization]   \n",
       "42263  [Yagan, Australia, England, France, United_Sta...   \n",
       "42264  [Yarralumla%2C_Australian_Capital_Territory, A...   \n",
       "42265                        [Ziad_Jarrah, Germany, Jew]   \n",
       "\n",
       "                                            start                     end  \\\n",
       "0                                    14th_century     African_slave_trade   \n",
       "1                                    14th_century     African_slave_trade   \n",
       "2                                    14th_century     African_slave_trade   \n",
       "3                                    14th_century                  Greece   \n",
       "4                                    14th_century         John_F._Kennedy   \n",
       "...                                           ...                     ...   \n",
       "42261                   Work_%28thermodynamics%29                    Film   \n",
       "42262                                       Yagan            Civilization   \n",
       "42263                                       Yagan  U.S._Open_%28tennis%29   \n",
       "42264  Yarralumla%2C_Australian_Capital_Territory         Abraham_Lincoln   \n",
       "42265                                 Ziad_Jarrah                     Jew   \n",
       "\n",
       "       length  \n",
       "0           9  \n",
       "1           5  \n",
       "2           8  \n",
       "3           4  \n",
       "4           7  \n",
       "...       ...  \n",
       "42261      13  \n",
       "42262       3  \n",
       "42263       7  \n",
       "42264       4  \n",
       "42265       3  \n",
       "\n",
       "[42255 rows x 4 columns]"
      ]
     },
     "execution_count": 608,
     "metadata": {},
     "output_type": "execute_result"
    }
   ],
   "source": [
    "df_paths_finished"
   ]
  },
  {
   "attachments": {},
   "cell_type": "markdown",
   "metadata": {},
   "source": [
    "Next we want to see if the link chosen by the player are sementically closer or not to the target article.\n",
    "Here we distinguish 2 metrics :\n",
    "- Article similarity \n",
    "- Tile similarity\n",
    "\n",
    "Article similarity is the similarity between the target article and the article that the player clicked on. <br>\n",
    "Tile similarity is the similarity between the title of the target article and the title of the article that the player clicked on.\n",
    "\n",
    "In order to compute these metrics we use the BERT model to compute the embeddings of the articles and the titles.\n",
    "Then we compute the cosine similarity between the embeddings.\n",
    "\n",
    "We cretated an object of type ArticleComparator that stores the embeddings of the articles and the titles.\n",
    "Now we will use the methods of this object to compute the similarity metrics."
   ]
  },
  {
   "cell_type": "code",
   "execution_count": 609,
   "metadata": {},
   "outputs": [],
   "source": [
    "#Initiate the comparator\n",
    "article_list = truth_graph.articles\n",
    "article_comparator = ac.ArticleComparator(\"data/plaintext_articles/\", article_list)"
   ]
  },
  {
   "cell_type": "code",
   "execution_count": 610,
   "metadata": {},
   "outputs": [],
   "source": [
    "# For each path, compute the similarity between the articles in the path and the end article\n",
    "df_paths_finished['article_similarity'] = df_paths_finished.apply(lambda row: [article_comparator.compare_articles(article, row['end']) for article in row['path']], axis=1)\n",
    "# For each path, compute the similarity between the title of the articles in the path and the title of the end article\n",
    "df_paths_finished['title_similarity'] = df_paths_finished.apply(lambda row: [article_comparator.compare_titles(article, row['end']) for article in row['path']], axis=1)"
   ]
  },
  {
   "cell_type": "code",
   "execution_count": 611,
   "metadata": {},
   "outputs": [
    {
     "data": {
      "text/html": [
       "<div>\n",
       "<style scoped>\n",
       "    .dataframe tbody tr th:only-of-type {\n",
       "        vertical-align: middle;\n",
       "    }\n",
       "\n",
       "    .dataframe tbody tr th {\n",
       "        vertical-align: top;\n",
       "    }\n",
       "\n",
       "    .dataframe thead th {\n",
       "        text-align: right;\n",
       "    }\n",
       "</style>\n",
       "<table border=\"1\" class=\"dataframe\">\n",
       "  <thead>\n",
       "    <tr style=\"text-align: right;\">\n",
       "      <th></th>\n",
       "      <th>path</th>\n",
       "      <th>start</th>\n",
       "      <th>end</th>\n",
       "      <th>length</th>\n",
       "      <th>article_similarity</th>\n",
       "      <th>title_similarity</th>\n",
       "    </tr>\n",
       "  </thead>\n",
       "  <tbody>\n",
       "    <tr>\n",
       "      <th>1063</th>\n",
       "      <td>[Bamako, United_States, India, Hinduism, Swast...</td>\n",
       "      <td>Bamako</td>\n",
       "      <td>Sun</td>\n",
       "      <td>6</td>\n",
       "      <td>[0.51, 0.64, 0.58, 0.43, 0.48, 1.0]</td>\n",
       "      <td>[0.46, 0.55, 0.53, 0.51, 0.44, 1.0]</td>\n",
       "    </tr>\n",
       "    <tr>\n",
       "      <th>15577</th>\n",
       "      <td>[Winter, Snow, Water, Life, Animal, Mammal, Li...</td>\n",
       "      <td>Winter</td>\n",
       "      <td>Carnivore</td>\n",
       "      <td>8</td>\n",
       "      <td>[0.35, 0.34, 0.49, 0.54, 0.58, 0.68, 0.79, 1.0]</td>\n",
       "      <td>[0.44, 0.41, 0.44, 0.5, 0.63, 0.67, 0.45, 1.0]</td>\n",
       "    </tr>\n",
       "    <tr>\n",
       "      <th>40501</th>\n",
       "      <td>[Theatre, Music, Folk_music, Natural_selection...</td>\n",
       "      <td>Theatre</td>\n",
       "      <td>Zebra</td>\n",
       "      <td>9</td>\n",
       "      <td>[0.5, 0.42, 0.47, 0.58, 0.63, 0.59, 0.64, 0.68...</td>\n",
       "      <td>[0.31, 0.4, 0.27, 0.47, 0.44, 0.52, 0.58, 0.62...</td>\n",
       "    </tr>\n",
       "    <tr>\n",
       "      <th>35228</th>\n",
       "      <td>[Mancala, Europe, Czech_Republic]</td>\n",
       "      <td>Mancala</td>\n",
       "      <td>Czech_Republic</td>\n",
       "      <td>3</td>\n",
       "      <td>[0.57, 0.57, 1.0]</td>\n",
       "      <td>[0.41, 0.52, 1.0]</td>\n",
       "    </tr>\n",
       "    <tr>\n",
       "      <th>5007</th>\n",
       "      <td>[Linguistics, Middle_East, Irrigation, Rain, A...</td>\n",
       "      <td>Linguistics</td>\n",
       "      <td>Climate_change</td>\n",
       "      <td>7</td>\n",
       "      <td>[0.6, 0.65, 0.62, 0.65, 0.75, 0.64, 1.0]</td>\n",
       "      <td>[0.39, 0.45, 0.43, 0.53, 0.52, 0.84, 1.0]</td>\n",
       "    </tr>\n",
       "    <tr>\n",
       "      <th>13929</th>\n",
       "      <td>[Tin, Chemical_element, Sulfur, Nature, Solar_...</td>\n",
       "      <td>Tin</td>\n",
       "      <td>Earth</td>\n",
       "      <td>6</td>\n",
       "      <td>[0.76, 0.58, 0.72, 0.44, 0.8, 1.0]</td>\n",
       "      <td>[0.75, 0.65, 0.6, 0.68, 0.61, 1.0]</td>\n",
       "    </tr>\n",
       "    <tr>\n",
       "      <th>14368</th>\n",
       "      <td>[Immanuel_Kant, Mathematics, Science, Chemistr...</td>\n",
       "      <td>Immanuel_Kant</td>\n",
       "      <td>Aluminium_chloride</td>\n",
       "      <td>8</td>\n",
       "      <td>[0.6, 0.61, 0.58, 0.69, 0.85, 0.77, 0.91, 1.0]</td>\n",
       "      <td>[0.47, 0.41, 0.49, 0.54, 0.57, 0.58, 0.86, 1.0]</td>\n",
       "    </tr>\n",
       "    <tr>\n",
       "      <th>32479</th>\n",
       "      <td>[Glasses, Titanium, Periodic_table, Zirconium]</td>\n",
       "      <td>Glasses</td>\n",
       "      <td>Zirconium</td>\n",
       "      <td>4</td>\n",
       "      <td>[0.6, 0.94, 0.7, 1.0]</td>\n",
       "      <td>[0.58, 0.64, 0.73, 1.0]</td>\n",
       "    </tr>\n",
       "    <tr>\n",
       "      <th>35398</th>\n",
       "      <td>[Marvin_Gaye, United_Kingdom, Christianity, Re...</td>\n",
       "      <td>Marvin_Gaye</td>\n",
       "      <td>Mysticism</td>\n",
       "      <td>5</td>\n",
       "      <td>[0.51, 0.62, 0.62, 0.73, 1.0]</td>\n",
       "      <td>[0.5, 0.55, 0.56, 0.68, 1.0]</td>\n",
       "    </tr>\n",
       "    <tr>\n",
       "      <th>4716</th>\n",
       "      <td>[Japan, United_Nations, English_language, Old_...</td>\n",
       "      <td>Japan</td>\n",
       "      <td>Greece</td>\n",
       "      <td>9</td>\n",
       "      <td>[0.58, 0.63, 0.54, 0.55, 0.54, 0.66, 0.66, 0.7...</td>\n",
       "      <td>[0.55, 0.47, 0.33, 0.29, 0.48, 0.58, 0.53, 0.5...</td>\n",
       "    </tr>\n",
       "  </tbody>\n",
       "</table>\n",
       "</div>"
      ],
      "text/plain": [
       "                                                    path          start  \\\n",
       "1063   [Bamako, United_States, India, Hinduism, Swast...         Bamako   \n",
       "15577  [Winter, Snow, Water, Life, Animal, Mammal, Li...         Winter   \n",
       "40501  [Theatre, Music, Folk_music, Natural_selection...        Theatre   \n",
       "35228                  [Mancala, Europe, Czech_Republic]        Mancala   \n",
       "5007   [Linguistics, Middle_East, Irrigation, Rain, A...    Linguistics   \n",
       "13929  [Tin, Chemical_element, Sulfur, Nature, Solar_...            Tin   \n",
       "14368  [Immanuel_Kant, Mathematics, Science, Chemistr...  Immanuel_Kant   \n",
       "32479     [Glasses, Titanium, Periodic_table, Zirconium]        Glasses   \n",
       "35398  [Marvin_Gaye, United_Kingdom, Christianity, Re...    Marvin_Gaye   \n",
       "4716   [Japan, United_Nations, English_language, Old_...          Japan   \n",
       "\n",
       "                      end  length  \\\n",
       "1063                  Sun       6   \n",
       "15577           Carnivore       8   \n",
       "40501               Zebra       9   \n",
       "35228      Czech_Republic       3   \n",
       "5007       Climate_change       7   \n",
       "13929               Earth       6   \n",
       "14368  Aluminium_chloride       8   \n",
       "32479           Zirconium       4   \n",
       "35398           Mysticism       5   \n",
       "4716               Greece       9   \n",
       "\n",
       "                                      article_similarity  \\\n",
       "1063                 [0.51, 0.64, 0.58, 0.43, 0.48, 1.0]   \n",
       "15577    [0.35, 0.34, 0.49, 0.54, 0.58, 0.68, 0.79, 1.0]   \n",
       "40501  [0.5, 0.42, 0.47, 0.58, 0.63, 0.59, 0.64, 0.68...   \n",
       "35228                                  [0.57, 0.57, 1.0]   \n",
       "5007            [0.6, 0.65, 0.62, 0.65, 0.75, 0.64, 1.0]   \n",
       "13929                 [0.76, 0.58, 0.72, 0.44, 0.8, 1.0]   \n",
       "14368     [0.6, 0.61, 0.58, 0.69, 0.85, 0.77, 0.91, 1.0]   \n",
       "32479                              [0.6, 0.94, 0.7, 1.0]   \n",
       "35398                      [0.51, 0.62, 0.62, 0.73, 1.0]   \n",
       "4716   [0.58, 0.63, 0.54, 0.55, 0.54, 0.66, 0.66, 0.7...   \n",
       "\n",
       "                                        title_similarity  \n",
       "1063                 [0.46, 0.55, 0.53, 0.51, 0.44, 1.0]  \n",
       "15577     [0.44, 0.41, 0.44, 0.5, 0.63, 0.67, 0.45, 1.0]  \n",
       "40501  [0.31, 0.4, 0.27, 0.47, 0.44, 0.52, 0.58, 0.62...  \n",
       "35228                                  [0.41, 0.52, 1.0]  \n",
       "5007           [0.39, 0.45, 0.43, 0.53, 0.52, 0.84, 1.0]  \n",
       "13929                 [0.75, 0.65, 0.6, 0.68, 0.61, 1.0]  \n",
       "14368    [0.47, 0.41, 0.49, 0.54, 0.57, 0.58, 0.86, 1.0]  \n",
       "32479                            [0.58, 0.64, 0.73, 1.0]  \n",
       "35398                       [0.5, 0.55, 0.56, 0.68, 1.0]  \n",
       "4716   [0.55, 0.47, 0.33, 0.29, 0.48, 0.58, 0.53, 0.5...  "
      ]
     },
     "execution_count": 611,
     "metadata": {},
     "output_type": "execute_result"
    }
   ],
   "source": [
    "df_paths_finished.sample(10)"
   ]
  },
  {
   "cell_type": "code",
   "execution_count": 612,
   "metadata": {},
   "outputs": [],
   "source": [
    "# pickle the dataframe\n",
    "with open('data/df_paths_finished.pickle', 'wb') as handle:\n",
    "    pickle.dump(df_paths_finished, handle, protocol=pickle.HIGHEST_PROTOCOL)\n",
    "\n",
    "# load the dataframe\n",
    "with open('data/df_paths_finished.pickle', 'rb') as handle:\n",
    "    df_paths_finished = pickle.load(handle)"
   ]
  },
  {
   "attachments": {},
   "cell_type": "markdown",
   "metadata": {},
   "source": [
    "Todo We can ask ourselvers if the similarity metrics are correlated with the length of the path."
   ]
  },
  {
   "attachments": {},
   "cell_type": "markdown",
   "metadata": {},
   "source": [
    "We can wonder if "
   ]
  },
  {
   "cell_type": "code",
   "execution_count": 598,
   "metadata": {},
   "outputs": [],
   "source": [
    "def percentage_increase(sequence):\n",
    "  # Initialize the score to 0\n",
    "  score = 0\n",
    "  # Loop through the numbers in the sequence, starting at the second number\n",
    "  for i in range(1, len(sequence)-1):\n",
    "    if sequence[i] > sequence[i-1]:\n",
    "      score += 1\n",
    "  return (score/((len(sequence)-1))).__round__(2)"
   ]
  },
  {
   "cell_type": "code",
   "execution_count": 599,
   "metadata": {},
   "outputs": [],
   "source": [
    "df_paths_finished['percentage_inc_article_sim'] = df_paths_finished.apply(lambda row: percentage_increase(row['article_similarity']), axis=1)\n",
    "df_paths_finished['percentage_inc_title_sim'] = df_paths_finished.apply(lambda row: percentage_increase(row['title_similarity']), axis=1)"
   ]
  },
  {
   "cell_type": "code",
   "execution_count": 600,
   "metadata": {},
   "outputs": [
    {
     "data": {
      "text/plain": [
       "<AxesSubplot: xlabel='percentage_inc_article_sim', ylabel='Count'>"
      ]
     },
     "execution_count": 600,
     "metadata": {},
     "output_type": "execute_result"
    },
    {
     "data": {
      "image/png": "[encoded data removed]",
      "text/plain": [
       "<Figure size 640x480 with 1 Axes>"
      ]
     },
     "metadata": {},
     "output_type": "display_data"
    }
   ],
   "source": [
    "sns.histplot(data=df_paths_finished, x=\"percentage_inc_article_sim\", bins=10, stat=\"count\")"
   ]
  },
  {
   "attachments": {},
   "cell_type": "markdown",
   "metadata": {},
   "source": [
    "Now we need a way to evaluate the quality of the paths.\n",
    "We consider that a path is good if it get semantically closer to the target article :\n",
    "- [0.26, 0.38, 0.48, 1.0] is a good path because the similarity is increasing\n",
    "- [0.26, 0.38, 0.28, 0.4, 0.20, 1.0] is a bad path because the similarity is oscillating"
   ]
  },
  {
   "cell_type": "code",
   "execution_count": 601,
   "metadata": {},
   "outputs": [],
   "source": [
    "def path_score(sequence):\n",
    "  # Initialize the score to 0\n",
    "  score = 0\n",
    "  \n",
    "  # Loop through the numbers in the sequence, starting at the second number\n",
    "  for i in range(1, len(sequence)-1):\n",
    "    # If the difference between the current number and the previous number is less than 0.05, add 0 to the score\n",
    "    if np.abs(sequence[i] - sequence[i-1]) < 0.05:\n",
    "      score += 0\n",
    "    # If the next article is more similar than the previous article, add 1 to the score\n",
    "    elif sequence[i] > sequence[i-1]:\n",
    "      score += 1\n",
    "    # If the next article is less similar than the previous article, subtract 1 from the score\n",
    "    elif sequence[i] < sequence[i-1]:\n",
    "      score -= 1\n",
    "    \n",
    "  return (score/((len(sequence)-1))).__round__(2)\n"
   ]
  },
  {
   "attachments": {},
   "cell_type": "markdown",
   "metadata": {},
   "source": [
    "We assign to each path two scores :\n",
    "- The score of the path based on the article similarity \n",
    "- The score of the path based on the title similarity"
   ]
  },
  {
   "cell_type": "code",
   "execution_count": 602,
   "metadata": {},
   "outputs": [],
   "source": [
    "df_paths_finished['score_article_similarity'] = df_paths_finished.apply(lambda row: path_score(row['article_similarity']), axis=1)\n",
    "df_paths_finished['score_title_similarity'] = df_paths_finished.apply(lambda row: path_score(row['title_similarity']), axis=1)"
   ]
  },
  {
   "cell_type": "code",
   "execution_count": 603,
   "metadata": {},
   "outputs": [
    {
     "data": {
      "text/html": [
       "<div>\n",
       "<style scoped>\n",
       "    .dataframe tbody tr th:only-of-type {\n",
       "        vertical-align: middle;\n",
       "    }\n",
       "\n",
       "    .dataframe tbody tr th {\n",
       "        vertical-align: top;\n",
       "    }\n",
       "\n",
       "    .dataframe thead th {\n",
       "        text-align: right;\n",
       "    }\n",
       "</style>\n",
       "<table border=\"1\" class=\"dataframe\">\n",
       "  <thead>\n",
       "    <tr style=\"text-align: right;\">\n",
       "      <th></th>\n",
       "      <th>path</th>\n",
       "      <th>start</th>\n",
       "      <th>end</th>\n",
       "      <th>length</th>\n",
       "      <th>article_similarity</th>\n",
       "      <th>title_similarity</th>\n",
       "      <th>percentage_inc_article_sim</th>\n",
       "      <th>percentage_inc_title_sim</th>\n",
       "      <th>score_article_similarity</th>\n",
       "      <th>score_title_similarity</th>\n",
       "    </tr>\n",
       "  </thead>\n",
       "  <tbody>\n",
       "    <tr>\n",
       "      <th>8364</th>\n",
       "      <td>[Vitamin_C, United_States, Natural_gas, Gas, H...</td>\n",
       "      <td>Vitamin_C</td>\n",
       "      <td>Comet</td>\n",
       "      <td>7</td>\n",
       "      <td>[0.32, 0.44, 0.55, 0.6, 0.69, 0.8, 1.0]</td>\n",
       "      <td>[0.39, 0.53, 0.56, 0.58, 0.5, 0.46, 1.0]</td>\n",
       "      <td>0.83</td>\n",
       "      <td>0.50</td>\n",
       "      <td>0.83</td>\n",
       "      <td>0.00</td>\n",
       "    </tr>\n",
       "    <tr>\n",
       "      <th>7464</th>\n",
       "      <td>[Commonwealth_Games, English_language, Languag...</td>\n",
       "      <td>Commonwealth_Games</td>\n",
       "      <td>Computational_chemistry</td>\n",
       "      <td>7</td>\n",
       "      <td>[0.35, 0.49, 0.61, 0.68, 0.73, 0.89, 1.0]</td>\n",
       "      <td>[0.28, 0.43, 0.44, 0.63, 0.72, 0.81, 1.0]</td>\n",
       "      <td>0.83</td>\n",
       "      <td>0.83</td>\n",
       "      <td>0.83</td>\n",
       "      <td>0.67</td>\n",
       "    </tr>\n",
       "    <tr>\n",
       "      <th>14035</th>\n",
       "      <td>[Juice, New_Zealand, Bird_of_prey, Osprey, Fos...</td>\n",
       "      <td>Juice</td>\n",
       "      <td>Triceratops</td>\n",
       "      <td>7</td>\n",
       "      <td>[0.33, 0.55, 0.61, 0.68, 0.73, 0.97, 1.0]</td>\n",
       "      <td>[0.41, 0.49, 0.29, 0.56, 0.64, 0.76, 1.0]</td>\n",
       "      <td>0.83</td>\n",
       "      <td>0.67</td>\n",
       "      <td>0.83</td>\n",
       "      <td>0.50</td>\n",
       "    </tr>\n",
       "    <tr>\n",
       "      <th>13652</th>\n",
       "      <td>[Deity, Christianity, Spain, Christopher_Colum...</td>\n",
       "      <td>Deity</td>\n",
       "      <td>Effect_of_Hurricane_Katrina_on_New_Orleans</td>\n",
       "      <td>7</td>\n",
       "      <td>[0.42, 0.53, 0.58, 0.64, 0.73, 0.82, 1.0]</td>\n",
       "      <td>[0.24, 0.22, 0.28, 0.3, 0.67, 0.88, 1.0]</td>\n",
       "      <td>0.83</td>\n",
       "      <td>0.67</td>\n",
       "      <td>0.83</td>\n",
       "      <td>0.50</td>\n",
       "    </tr>\n",
       "    <tr>\n",
       "      <th>36674</th>\n",
       "      <td>[Ordinary_differential_equation, Isaac_Newton,...</td>\n",
       "      <td>Ordinary_differential_equation</td>\n",
       "      <td>Baltic_Sea</td>\n",
       "      <td>6</td>\n",
       "      <td>[0.43, 0.56, 0.66, 0.75, 0.93, 1.0]</td>\n",
       "      <td>[0.36, 0.33, 0.44, 0.45, 0.64, 1.0]</td>\n",
       "      <td>0.80</td>\n",
       "      <td>0.60</td>\n",
       "      <td>0.80</td>\n",
       "      <td>0.40</td>\n",
       "    </tr>\n",
       "    <tr>\n",
       "      <th>...</th>\n",
       "      <td>...</td>\n",
       "      <td>...</td>\n",
       "      <td>...</td>\n",
       "      <td>...</td>\n",
       "      <td>...</td>\n",
       "      <td>...</td>\n",
       "      <td>...</td>\n",
       "      <td>...</td>\n",
       "      <td>...</td>\n",
       "      <td>...</td>\n",
       "    </tr>\n",
       "    <tr>\n",
       "      <th>20539</th>\n",
       "      <td>[Baghdad, Football, Football_%28soccer%29, Lat...</td>\n",
       "      <td>Baghdad</td>\n",
       "      <td>Latin_America</td>\n",
       "      <td>4</td>\n",
       "      <td>[0.75, 0.49, 0.43, 1.0]</td>\n",
       "      <td>[0.49, 0.32, 0.26, 1.0]</td>\n",
       "      <td>0.00</td>\n",
       "      <td>0.00</td>\n",
       "      <td>-0.67</td>\n",
       "      <td>-0.67</td>\n",
       "    </tr>\n",
       "    <tr>\n",
       "      <th>24571</th>\n",
       "      <td>[Californium, Chemical_element, Periodic_table...</td>\n",
       "      <td>Californium</td>\n",
       "      <td>Phosphorus</td>\n",
       "      <td>4</td>\n",
       "      <td>[0.91, 0.75, 0.65, 1.0]</td>\n",
       "      <td>[0.63, 0.7, 0.69, 1.0]</td>\n",
       "      <td>0.00</td>\n",
       "      <td>0.33</td>\n",
       "      <td>-0.67</td>\n",
       "      <td>0.33</td>\n",
       "    </tr>\n",
       "    <tr>\n",
       "      <th>9979</th>\n",
       "      <td>[Laika, United_States, Yellowstone_National_Pa...</td>\n",
       "      <td>Laika</td>\n",
       "      <td>Human</td>\n",
       "      <td>4</td>\n",
       "      <td>[0.73, 0.61, 0.56, 1.0]</td>\n",
       "      <td>[0.62, 0.57, 0.23, 1.0]</td>\n",
       "      <td>0.00</td>\n",
       "      <td>0.00</td>\n",
       "      <td>-0.67</td>\n",
       "      <td>-0.67</td>\n",
       "    </tr>\n",
       "    <tr>\n",
       "      <th>2307</th>\n",
       "      <td>[California, North_America, Europe, Czech_Repu...</td>\n",
       "      <td>California</td>\n",
       "      <td>Czech_Republic</td>\n",
       "      <td>4</td>\n",
       "      <td>[0.68, 0.62, 0.57, 1.0]</td>\n",
       "      <td>[0.39, 0.61, 0.52, 1.0]</td>\n",
       "      <td>0.00</td>\n",
       "      <td>0.33</td>\n",
       "      <td>-0.67</td>\n",
       "      <td>0.00</td>\n",
       "    </tr>\n",
       "    <tr>\n",
       "      <th>21711</th>\n",
       "      <td>[Cairo, Egypt, Sudan, Eritrea]</td>\n",
       "      <td>Cairo</td>\n",
       "      <td>Eritrea</td>\n",
       "      <td>4</td>\n",
       "      <td>[0.82, 0.75, 0.69, 1.0]</td>\n",
       "      <td>[0.67, 0.69, 0.76, 1.0]</td>\n",
       "      <td>0.00</td>\n",
       "      <td>0.67</td>\n",
       "      <td>-0.67</td>\n",
       "      <td>0.33</td>\n",
       "    </tr>\n",
       "  </tbody>\n",
       "</table>\n",
       "<p>42255 rows × 10 columns</p>\n",
       "</div>"
      ],
      "text/plain": [
       "                                                    path  \\\n",
       "8364   [Vitamin_C, United_States, Natural_gas, Gas, H...   \n",
       "7464   [Commonwealth_Games, English_language, Languag...   \n",
       "14035  [Juice, New_Zealand, Bird_of_prey, Osprey, Fos...   \n",
       "13652  [Deity, Christianity, Spain, Christopher_Colum...   \n",
       "36674  [Ordinary_differential_equation, Isaac_Newton,...   \n",
       "...                                                  ...   \n",
       "20539  [Baghdad, Football, Football_%28soccer%29, Lat...   \n",
       "24571  [Californium, Chemical_element, Periodic_table...   \n",
       "9979   [Laika, United_States, Yellowstone_National_Pa...   \n",
       "2307   [California, North_America, Europe, Czech_Repu...   \n",
       "21711                     [Cairo, Egypt, Sudan, Eritrea]   \n",
       "\n",
       "                                start  \\\n",
       "8364                        Vitamin_C   \n",
       "7464               Commonwealth_Games   \n",
       "14035                           Juice   \n",
       "13652                           Deity   \n",
       "36674  Ordinary_differential_equation   \n",
       "...                               ...   \n",
       "20539                         Baghdad   \n",
       "24571                     Californium   \n",
       "9979                            Laika   \n",
       "2307                       California   \n",
       "21711                           Cairo   \n",
       "\n",
       "                                              end  length  \\\n",
       "8364                                        Comet       7   \n",
       "7464                      Computational_chemistry       7   \n",
       "14035                                 Triceratops       7   \n",
       "13652  Effect_of_Hurricane_Katrina_on_New_Orleans       7   \n",
       "36674                                  Baltic_Sea       6   \n",
       "...                                           ...     ...   \n",
       "20539                               Latin_America       4   \n",
       "24571                                  Phosphorus       4   \n",
       "9979                                        Human       4   \n",
       "2307                               Czech_Republic       4   \n",
       "21711                                     Eritrea       4   \n",
       "\n",
       "                              article_similarity  \\\n",
       "8364     [0.32, 0.44, 0.55, 0.6, 0.69, 0.8, 1.0]   \n",
       "7464   [0.35, 0.49, 0.61, 0.68, 0.73, 0.89, 1.0]   \n",
       "14035  [0.33, 0.55, 0.61, 0.68, 0.73, 0.97, 1.0]   \n",
       "13652  [0.42, 0.53, 0.58, 0.64, 0.73, 0.82, 1.0]   \n",
       "36674        [0.43, 0.56, 0.66, 0.75, 0.93, 1.0]   \n",
       "...                                          ...   \n",
       "20539                    [0.75, 0.49, 0.43, 1.0]   \n",
       "24571                    [0.91, 0.75, 0.65, 1.0]   \n",
       "9979                     [0.73, 0.61, 0.56, 1.0]   \n",
       "2307                     [0.68, 0.62, 0.57, 1.0]   \n",
       "21711                    [0.82, 0.75, 0.69, 1.0]   \n",
       "\n",
       "                                title_similarity  percentage_inc_article_sim  \\\n",
       "8364    [0.39, 0.53, 0.56, 0.58, 0.5, 0.46, 1.0]                        0.83   \n",
       "7464   [0.28, 0.43, 0.44, 0.63, 0.72, 0.81, 1.0]                        0.83   \n",
       "14035  [0.41, 0.49, 0.29, 0.56, 0.64, 0.76, 1.0]                        0.83   \n",
       "13652   [0.24, 0.22, 0.28, 0.3, 0.67, 0.88, 1.0]                        0.83   \n",
       "36674        [0.36, 0.33, 0.44, 0.45, 0.64, 1.0]                        0.80   \n",
       "...                                          ...                         ...   \n",
       "20539                    [0.49, 0.32, 0.26, 1.0]                        0.00   \n",
       "24571                     [0.63, 0.7, 0.69, 1.0]                        0.00   \n",
       "9979                     [0.62, 0.57, 0.23, 1.0]                        0.00   \n",
       "2307                     [0.39, 0.61, 0.52, 1.0]                        0.00   \n",
       "21711                    [0.67, 0.69, 0.76, 1.0]                        0.00   \n",
       "\n",
       "       percentage_inc_title_sim  score_article_similarity  \\\n",
       "8364                       0.50                      0.83   \n",
       "7464                       0.83                      0.83   \n",
       "14035                      0.67                      0.83   \n",
       "13652                      0.67                      0.83   \n",
       "36674                      0.60                      0.80   \n",
       "...                         ...                       ...   \n",
       "20539                      0.00                     -0.67   \n",
       "24571                      0.33                     -0.67   \n",
       "9979                       0.00                     -0.67   \n",
       "2307                       0.33                     -0.67   \n",
       "21711                      0.67                     -0.67   \n",
       "\n",
       "       score_title_similarity  \n",
       "8364                     0.00  \n",
       "7464                     0.67  \n",
       "14035                    0.50  \n",
       "13652                    0.50  \n",
       "36674                    0.40  \n",
       "...                       ...  \n",
       "20539                   -0.67  \n",
       "24571                    0.33  \n",
       "9979                    -0.67  \n",
       "2307                     0.00  \n",
       "21711                    0.33  \n",
       "\n",
       "[42255 rows x 10 columns]"
      ]
     },
     "execution_count": 603,
     "metadata": {},
     "output_type": "execute_result"
    }
   ],
   "source": [
    "df_paths_finished.sort_values(by=['score_article_similarity'], ascending=False)"
   ]
  },
  {
   "attachments": {},
   "cell_type": "markdown",
   "metadata": {},
   "source": [
    "Then we classify the paths based on the score of the article similarity and the score of the title similarity.\n",
    "- **Type 0 paths:**  paths that have similar score for both article similarity and title similarity\n",
    "- **Type 1 paths:**  paths that have better score for article similarity than title similarity\n",
    "- **Type 2 paths:**  paths that have better score for title similarity than article similarity"
   ]
  },
  {
   "cell_type": "code",
   "execution_count": 559,
   "metadata": {},
   "outputs": [],
   "source": [
    "df_paths_finished['type'] = df_paths_finished.apply(lambda row: 0 if row['score_article_similarity'] == row['score_title_similarity'] else (1 if row['score_article_similarity'] > row['score_title_similarity'] else 2), axis=1)"
   ]
  },
  {
   "cell_type": "code",
   "execution_count": 560,
   "metadata": {},
   "outputs": [
    {
     "data": {
      "text/html": [
       "<div>\n",
       "<style scoped>\n",
       "    .dataframe tbody tr th:only-of-type {\n",
       "        vertical-align: middle;\n",
       "    }\n",
       "\n",
       "    .dataframe tbody tr th {\n",
       "        vertical-align: top;\n",
       "    }\n",
       "\n",
       "    .dataframe thead th {\n",
       "        text-align: right;\n",
       "    }\n",
       "</style>\n",
       "<table border=\"1\" class=\"dataframe\">\n",
       "  <thead>\n",
       "    <tr style=\"text-align: right;\">\n",
       "      <th></th>\n",
       "      <th>type</th>\n",
       "    </tr>\n",
       "  </thead>\n",
       "  <tbody>\n",
       "    <tr>\n",
       "      <th>0</th>\n",
       "      <td>0.344078</td>\n",
       "    </tr>\n",
       "    <tr>\n",
       "      <th>1</th>\n",
       "      <td>0.333002</td>\n",
       "    </tr>\n",
       "    <tr>\n",
       "      <th>2</th>\n",
       "      <td>0.322920</td>\n",
       "    </tr>\n",
       "  </tbody>\n",
       "</table>\n",
       "</div>"
      ],
      "text/plain": [
       "       type\n",
       "0  0.344078\n",
       "1  0.333002\n",
       "2  0.322920"
      ]
     },
     "execution_count": 560,
     "metadata": {},
     "output_type": "execute_result"
    }
   ],
   "source": [
    "# show proportion of paths with score 0, 1, 2\n",
    "df_paths_finished['type'].value_counts(normalize=True).to_frame().sort_index()"
   ]
  },
  {
   "attachments": {},
   "cell_type": "markdown",
   "metadata": {},
   "source": [
    "We can see that the paths are evenly distributed along the types. <br>\n",
    "Let's see how the path types are distributed along the the different paths lengths. <br>\n",
    "\n",
    "Before doing so, we drop all paths of non frquenet lengths(that are inferior to 100) since they are not representative of the whole population."
   ]
  },
  {
   "cell_type": "code",
   "execution_count": 561,
   "metadata": {},
   "outputs": [
    {
     "name": "stdout",
     "output_type": "stream",
     "text": [
      "Number of paths before filtering:  42255\n",
      "Number of paths after filtering:  41914\n"
     ]
    }
   ],
   "source": [
    "# drop the entries where the length appear less than 100 times\n",
    "print(\"Number of paths before filtering: \", len(df_paths_finished))\n",
    "df_paths_multiple = df_paths_finished.groupby('length').filter(lambda x: len(x) > 100)\n",
    "print(\"Number of paths after filtering: \", len(df_paths_multiple))"
   ]
  },
  {
   "attachments": {},
   "cell_type": "markdown",
   "metadata": {},
   "source": [
    "Let's now see the distribution of the path lengths based on the type of the path."
   ]
  },
  {
   "cell_type": "code",
   "execution_count": 562,
   "metadata": {},
   "outputs": [
    {
     "data": {
      "image/png": "[encoded data removed]",
      "text/plain": [
       "<Figure size 2000x1000 with 1 Axes>"
      ]
     },
     "metadata": {},
     "output_type": "display_data"
    },
    {
     "name": "stdout",
     "output_type": "stream",
     "text": [
      "Average path length:  5.617216204609439\n",
      "Median path length:  5.0\n",
      "Standard deviation of path length:  2.0090258529655713\n"
     ]
    }
   ],
   "source": [
    "# plot the distribution of the type per length using hue type histplot plot and kde=true, \n",
    "sns.set_context(\"paper\")\n",
    "sns.set_style(\"darkgrid\")\n",
    "sns.set_theme(palette=\"flare\")\n",
    "fig, ax = plt.subplots( figsize=(20, 10))\n",
    "sns.histplot(data=df_paths_multiple, x=\"length\", hue=\"type\",bins=35,stat = 'count',discrete= True, shrink=0.7,\n",
    "  multiple=\"dodge\", palette=\"flare\", kde=True, ax=ax, kde_kws={'bw_method': 0.28})\n",
    "ax.set_xlabel(\"Path length\")\n",
    "ax.set_ylabel(\"Number of paths\")\n",
    "ax.set_title(\"Distribution of path length per path type \", fontsize=20)\n",
    "plt.show()\n",
    "\n",
    "# print average, median path length and standard deviation\n",
    "print(\"Average path length: \", df_paths_multiple['length'].mean())\n",
    "print(\"Median path length: \", df_paths_multiple['length'].median())\n",
    "print(\"Standard deviation of path length: \", df_paths_multiple['length'].std())"
   ]
  },
  {
   "cell_type": "code",
   "execution_count": 563,
   "metadata": {},
   "outputs": [
    {
     "data": {
      "text/html": [
       "<div>\n",
       "<style scoped>\n",
       "    .dataframe tbody tr th:only-of-type {\n",
       "        vertical-align: middle;\n",
       "    }\n",
       "\n",
       "    .dataframe tbody tr th {\n",
       "        vertical-align: top;\n",
       "    }\n",
       "\n",
       "    .dataframe thead th {\n",
       "        text-align: right;\n",
       "    }\n",
       "</style>\n",
       "<table border=\"1\" class=\"dataframe\">\n",
       "  <thead>\n",
       "    <tr style=\"text-align: right;\">\n",
       "      <th></th>\n",
       "      <th>length</th>\n",
       "    </tr>\n",
       "    <tr>\n",
       "      <th>type</th>\n",
       "      <th></th>\n",
       "    </tr>\n",
       "  </thead>\n",
       "  <tbody>\n",
       "    <tr>\n",
       "      <th>0</th>\n",
       "      <td>5.044814</td>\n",
       "    </tr>\n",
       "    <tr>\n",
       "      <th>1</th>\n",
       "      <td>6.022272</td>\n",
       "    </tr>\n",
       "    <tr>\n",
       "      <th>2</th>\n",
       "      <td>5.813439</td>\n",
       "    </tr>\n",
       "  </tbody>\n",
       "</table>\n",
       "</div>"
      ],
      "text/plain": [
       "        length\n",
       "type          \n",
       "0     5.044814\n",
       "1     6.022272\n",
       "2     5.813439"
      ]
     },
     "execution_count": 563,
     "metadata": {},
     "output_type": "execute_result"
    }
   ],
   "source": [
    "df_paths_multiple.groupby('type')['length'].mean().to_frame()\n"
   ]
  },
  {
   "attachments": {},
   "cell_type": "markdown",
   "metadata": {},
   "source": [
    "From the above plot we can see that type 0 paths are the most frequent one when the length of the path is small (<4). <br>\n",
    "This is not surprising since the scores for content and title similarity are likely to evolve similarly in such short paths <br> <br>\n",
    "However, starting from length 6 we see a predominance of type 2 paths : as the solution becomes less obvious, the player is more likely to click on a link that has a similar title to the target article. <br>"
   ]
  },
  {
   "cell_type": "code",
   "execution_count": 564,
   "metadata": {},
   "outputs": [
    {
     "data": {
      "text/plain": [
       "<AxesSubplot: title={'center': 'Proportion of paths types per length'}, xlabel='length'>"
      ]
     },
     "execution_count": 564,
     "metadata": {},
     "output_type": "execute_result"
    },
    {
     "data": {
      "image/png": "[encoded data removed]",
      "text/plain": [
       "<Figure size 2000x1000 with 1 Axes>"
      ]
     },
     "metadata": {},
     "output_type": "display_data"
    }
   ],
   "source": [
    "# plot the percentage of playerType 0, 1, 2 per length \n",
    "type_repartition = df_paths_multiple.groupby(['length', 'type'], group_keys=False).size().groupby(level=0, group_keys=False).apply(lambda x: 100 * x / float(x.sum())).unstack()\n",
    "\n",
    "# set the color of the bars\n",
    "fig, ax = plt.subplots(figsize=(10, 5))\n",
    "colors = [\"#1f77b4\", \"#ff7f0e\", \"#2ca02c\"]\n",
    "type_repartition.plot(kind='bar', stacked=True, figsize=(20,10), title='Proportion of paths types per length', color=colors, ax=ax)"
   ]
  },
  {
   "attachments": {},
   "cell_type": "markdown",
   "metadata": {},
   "source": [
    " Todo : Interpret the results from above \n",
    " "
   ]
  },
  {
   "attachments": {},
   "cell_type": "markdown",
   "metadata": {},
   "source": [
    "Knowing that the three types  <br><br>\n",
    "To do so we have to compare the average length of type 0, type1 and type 2 paths by doing an observational study.<br>\n",
    "Thus, we do matchings between type 0 1 and 2 paths based on the start and end article. <br>"
   ]
  },
  {
   "attachments": {},
   "cell_type": "markdown",
   "metadata": {},
   "source": [
    "First we keep start and end articles that are common to all the types of paths. <br>\n"
   ]
  },
  {
   "cell_type": "code",
   "execution_count": 565,
   "metadata": {},
   "outputs": [
    {
     "name": "stdout",
     "output_type": "stream",
     "text": [
      "Number of start end that are represented in the three types of paths:  593\n"
     ]
    }
   ],
   "source": [
    "# group df_paths_multiple usinf start end and count the number of different types\n",
    "df_paths_multiple_grouped = df_paths_multiple.groupby(['start', 'end']).agg({'type': lambda x: len(x.value_counts())})\n",
    "\n",
    "# Get start end that are represented in the three types of paths\n",
    "df_paths_multiple_grouped = df_paths_multiple_grouped[df_paths_multiple_grouped['type'] == 3]\n",
    "\n",
    "# print the number of start end that are represented in the three types of paths\n",
    "print(\"Number of start end that are represented in the three types of paths: \", len(df_paths_multiple_grouped))\n",
    "\n",
    "# in df_paths_multiple keep only the rows where start and end are in df_paths_multiple_grouped\n",
    "matching = df_paths_multiple[df_paths_multiple.apply(lambda row: (row['start'], row['end']) in df_paths_multiple_grouped.index, axis=1)]\n",
    "# keep columns start, end, length, type, path\n",
    "matching = matching[['start', 'end', 'length', 'type']]"
   ]
  },
  {
   "attachments": {},
   "cell_type": "markdown",
   "metadata": {},
   "source": [
    "Then we compute the average length of the paths for each type of path. <br>\n"
   ]
  },
  {
   "cell_type": "code",
   "execution_count": 566,
   "metadata": {},
   "outputs": [],
   "source": [
    "# group by end start and type and average the length\n",
    "matching = matching.groupby(['start', 'end', 'type'], as_index=False).mean()"
   ]
  },
  {
   "cell_type": "code",
   "execution_count": 567,
   "metadata": {},
   "outputs": [
    {
     "data": {
      "text/html": [
       "<div>\n",
       "<style scoped>\n",
       "    .dataframe tbody tr th:only-of-type {\n",
       "        vertical-align: middle;\n",
       "    }\n",
       "\n",
       "    .dataframe tbody tr th {\n",
       "        vertical-align: top;\n",
       "    }\n",
       "\n",
       "    .dataframe thead th {\n",
       "        text-align: right;\n",
       "    }\n",
       "</style>\n",
       "<table border=\"1\" class=\"dataframe\">\n",
       "  <thead>\n",
       "    <tr style=\"text-align: right;\">\n",
       "      <th></th>\n",
       "      <th>start</th>\n",
       "      <th>end</th>\n",
       "      <th>type</th>\n",
       "      <th>length</th>\n",
       "    </tr>\n",
       "  </thead>\n",
       "  <tbody>\n",
       "    <tr>\n",
       "      <th>0</th>\n",
       "      <td>12th_century</td>\n",
       "      <td>Zimbabwe</td>\n",
       "      <td>0</td>\n",
       "      <td>5.5</td>\n",
       "    </tr>\n",
       "    <tr>\n",
       "      <th>1</th>\n",
       "      <td>12th_century</td>\n",
       "      <td>Zimbabwe</td>\n",
       "      <td>1</td>\n",
       "      <td>9.0</td>\n",
       "    </tr>\n",
       "    <tr>\n",
       "      <th>2</th>\n",
       "      <td>12th_century</td>\n",
       "      <td>Zimbabwe</td>\n",
       "      <td>2</td>\n",
       "      <td>5.0</td>\n",
       "    </tr>\n",
       "    <tr>\n",
       "      <th>3</th>\n",
       "      <td>14th_century</td>\n",
       "      <td>Elizabeth_I_of_England</td>\n",
       "      <td>0</td>\n",
       "      <td>4.0</td>\n",
       "    </tr>\n",
       "    <tr>\n",
       "      <th>4</th>\n",
       "      <td>14th_century</td>\n",
       "      <td>Elizabeth_I_of_England</td>\n",
       "      <td>1</td>\n",
       "      <td>4.0</td>\n",
       "    </tr>\n",
       "    <tr>\n",
       "      <th>5</th>\n",
       "      <td>14th_century</td>\n",
       "      <td>Elizabeth_I_of_England</td>\n",
       "      <td>2</td>\n",
       "      <td>6.0</td>\n",
       "    </tr>\n",
       "  </tbody>\n",
       "</table>\n",
       "</div>"
      ],
      "text/plain": [
       "          start                     end  type  length\n",
       "0  12th_century                Zimbabwe     0     5.5\n",
       "1  12th_century                Zimbabwe     1     9.0\n",
       "2  12th_century                Zimbabwe     2     5.0\n",
       "3  14th_century  Elizabeth_I_of_England     0     4.0\n",
       "4  14th_century  Elizabeth_I_of_England     1     4.0\n",
       "5  14th_century  Elizabeth_I_of_England     2     6.0"
      ]
     },
     "execution_count": 567,
     "metadata": {},
     "output_type": "execute_result"
    }
   ],
   "source": [
    "matching.head(6)"
   ]
  },
  {
   "attachments": {},
   "cell_type": "markdown",
   "metadata": {},
   "source": [
    "Finally we merge paths with same start and end articles and compute the average length of the paths for each type of path. <br>"
   ]
  },
  {
   "cell_type": "code",
   "execution_count": 568,
   "metadata": {},
   "outputs": [],
   "source": [
    "# inner join on df_paths_multiple with itself on start and end\n",
    "matching = matching.merge(matching, on=['start', 'end'])\n",
    "# drop the rows where the path_x is equal to the path_y\n",
    "matching = matching[matching['type_x'] != matching['type_y']]"
   ]
  },
  {
   "cell_type": "code",
   "execution_count": 569,
   "metadata": {},
   "outputs": [
    {
     "data": {
      "text/html": [
       "<div>\n",
       "<style scoped>\n",
       "    .dataframe tbody tr th:only-of-type {\n",
       "        vertical-align: middle;\n",
       "    }\n",
       "\n",
       "    .dataframe tbody tr th {\n",
       "        vertical-align: top;\n",
       "    }\n",
       "\n",
       "    .dataframe thead th {\n",
       "        text-align: right;\n",
       "    }\n",
       "</style>\n",
       "<table border=\"1\" class=\"dataframe\">\n",
       "  <thead>\n",
       "    <tr style=\"text-align: right;\">\n",
       "      <th></th>\n",
       "      <th>start</th>\n",
       "      <th>end</th>\n",
       "      <th>type_x</th>\n",
       "      <th>length_x</th>\n",
       "      <th>type_y</th>\n",
       "      <th>length_y</th>\n",
       "    </tr>\n",
       "  </thead>\n",
       "  <tbody>\n",
       "    <tr>\n",
       "      <th>1</th>\n",
       "      <td>12th_century</td>\n",
       "      <td>Zimbabwe</td>\n",
       "      <td>0</td>\n",
       "      <td>5.5</td>\n",
       "      <td>1</td>\n",
       "      <td>9.0</td>\n",
       "    </tr>\n",
       "    <tr>\n",
       "      <th>2</th>\n",
       "      <td>12th_century</td>\n",
       "      <td>Zimbabwe</td>\n",
       "      <td>0</td>\n",
       "      <td>5.5</td>\n",
       "      <td>2</td>\n",
       "      <td>5.0</td>\n",
       "    </tr>\n",
       "    <tr>\n",
       "      <th>3</th>\n",
       "      <td>12th_century</td>\n",
       "      <td>Zimbabwe</td>\n",
       "      <td>1</td>\n",
       "      <td>9.0</td>\n",
       "      <td>0</td>\n",
       "      <td>5.5</td>\n",
       "    </tr>\n",
       "    <tr>\n",
       "      <th>5</th>\n",
       "      <td>12th_century</td>\n",
       "      <td>Zimbabwe</td>\n",
       "      <td>1</td>\n",
       "      <td>9.0</td>\n",
       "      <td>2</td>\n",
       "      <td>5.0</td>\n",
       "    </tr>\n",
       "    <tr>\n",
       "      <th>6</th>\n",
       "      <td>12th_century</td>\n",
       "      <td>Zimbabwe</td>\n",
       "      <td>2</td>\n",
       "      <td>5.0</td>\n",
       "      <td>0</td>\n",
       "      <td>5.5</td>\n",
       "    </tr>\n",
       "    <tr>\n",
       "      <th>7</th>\n",
       "      <td>12th_century</td>\n",
       "      <td>Zimbabwe</td>\n",
       "      <td>2</td>\n",
       "      <td>5.0</td>\n",
       "      <td>1</td>\n",
       "      <td>9.0</td>\n",
       "    </tr>\n",
       "    <tr>\n",
       "      <th>10</th>\n",
       "      <td>14th_century</td>\n",
       "      <td>Elizabeth_I_of_England</td>\n",
       "      <td>0</td>\n",
       "      <td>4.0</td>\n",
       "      <td>1</td>\n",
       "      <td>4.0</td>\n",
       "    </tr>\n",
       "  </tbody>\n",
       "</table>\n",
       "</div>"
      ],
      "text/plain": [
       "           start                     end  type_x  length_x  type_y  length_y\n",
       "1   12th_century                Zimbabwe       0       5.5       1       9.0\n",
       "2   12th_century                Zimbabwe       0       5.5       2       5.0\n",
       "3   12th_century                Zimbabwe       1       9.0       0       5.5\n",
       "5   12th_century                Zimbabwe       1       9.0       2       5.0\n",
       "6   12th_century                Zimbabwe       2       5.0       0       5.5\n",
       "7   12th_century                Zimbabwe       2       5.0       1       9.0\n",
       "10  14th_century  Elizabeth_I_of_England       0       4.0       1       4.0"
      ]
     },
     "execution_count": 569,
     "metadata": {},
     "output_type": "execute_result"
    }
   ],
   "source": [
    "matching.head(7)"
   ]
  },
  {
   "cell_type": "code",
   "execution_count": 570,
   "metadata": {},
   "outputs": [],
   "source": [
    "def print_stats (df, type_x, type_y):\n",
    "    match = df[(df['type_x'] == type_x) & (df['type_y'] == type_y)]\n",
    "    # average type x path length \n",
    "    print(\"Average type \" , type_x , \" path length: \", match['length_x'].mean().__round__(2))\n",
    "    # average type y path length\n",
    "    print(\"Average type \" , type_y , \" path length: \", match['length_y'].mean().__round__(2))\n",
    "    # average difference between type x and type y path length\n",
    "    print(\"Average difference between type \" , type_x,  \" and \", type_y, \":\"  , (match['length_x'] - match['length_y']).mean().__round__(2))\n",
    "    # average relative decrease in path length\n",
    "    print(\"Average relative decrease in path length: \", ((match['length_x'] - match['length_y']).mean()/match['length_x'].mean()).__round__(2))"
   ]
  },
  {
   "cell_type": "code",
   "execution_count": 571,
   "metadata": {},
   "outputs": [
    {
     "name": "stdout",
     "output_type": "stream",
     "text": [
      "Average type  0  path length:  5.74\n",
      "Average type  1  path length:  6.32\n",
      "Average difference between type  0  and  1 : -0.58\n",
      "Average relative decrease in path length:  -0.1\n"
     ]
    }
   ],
   "source": [
    "print_stats (matching, 0, 1)"
   ]
  },
  {
   "cell_type": "code",
   "execution_count": 572,
   "metadata": {},
   "outputs": [
    {
     "name": "stdout",
     "output_type": "stream",
     "text": [
      "Average type  0  path length:  5.74\n",
      "Average type  2  path length:  6.18\n",
      "Average difference between type  0  and  2 : -0.44\n",
      "Average relative decrease in path length:  -0.08\n"
     ]
    }
   ],
   "source": [
    "print_stats (matching, 0, 2)"
   ]
  },
  {
   "cell_type": "code",
   "execution_count": 573,
   "metadata": {},
   "outputs": [
    {
     "name": "stdout",
     "output_type": "stream",
     "text": [
      "Average type  1  path length:  6.32\n",
      "Average type  2  path length:  6.18\n",
      "Average difference between type  1  and  2 : 0.14\n",
      "Average relative decrease in path length:  0.02\n"
     ]
    }
   ],
   "source": [
    "print_stats (matching, 1, 2)"
   ]
  },
  {
   "attachments": {},
   "cell_type": "markdown",
   "metadata": {},
   "source": [
    "We can conclude that the type O paths are on average the shortest ones. <br>\n"
   ]
  },
  {
   "cell_type": "markdown",
   "metadata": {},
   "source": [
    "# Further analysis will come soon "
   ]
  },
  {
   "attachments": {},
   "cell_type": "markdown",
   "metadata": {},
   "source": [
    "# Unfinished paths"
   ]
  },
  {
   "cell_type": "code",
   "execution_count": 574,
   "metadata": {},
   "outputs": [],
   "source": [
    "# create a df with path, start, end, length\n",
    "df_paths_unfinished = pd.DataFrame(columns=['path', 'start', 'end', 'length'])\n",
    "counter = 0\n",
    "\n",
    "# chek that a list of string named articles contains all elements list of string named list2\n",
    "def contains_all(articles, path):\n",
    "    for element in path:\n",
    "        if not articles.__contains__(element):\n",
    "            return False\n",
    "    return True\n",
    "\n",
    "with open(\"data/paths_unfinished.tsv\",encoding=\"utf8\") as file:\n",
    "            tsv_file = csv.reader(file, delimiter=\"\\t\")\n",
    "            for line in tsv_file:\n",
    "                # Skip empty or commented lines \n",
    "                if len(line)==0 or line[0].startswith(\"#\"):\n",
    "                    continue\n",
    "                else:   \n",
    "                    path = line[3].split(';')\n",
    "                    if path.__contains__('<') or path.__contains__('Pikachu') or line[4]=='Pikachu' or not contains_all(article_list, path) or not article_list.__contains__(line[4]):\n",
    "                        continue\n",
    "                    \n",
    "                    start = path[0]\n",
    "                    end = line[4]\n",
    "                    length = len(path)\n",
    "                    df_paths_unfinished.loc[counter] = [path, start, end, length]\n",
    "                    counter += 1"
   ]
  },
  {
   "cell_type": "code",
   "execution_count": 575,
   "metadata": {},
   "outputs": [
    {
     "data": {
      "text/html": [
       "<div>\n",
       "<style scoped>\n",
       "    .dataframe tbody tr th:only-of-type {\n",
       "        vertical-align: middle;\n",
       "    }\n",
       "\n",
       "    .dataframe tbody tr th {\n",
       "        vertical-align: top;\n",
       "    }\n",
       "\n",
       "    .dataframe thead th {\n",
       "        text-align: right;\n",
       "    }\n",
       "</style>\n",
       "<table border=\"1\" class=\"dataframe\">\n",
       "  <thead>\n",
       "    <tr style=\"text-align: right;\">\n",
       "      <th></th>\n",
       "      <th>path</th>\n",
       "      <th>start</th>\n",
       "      <th>end</th>\n",
       "      <th>length</th>\n",
       "    </tr>\n",
       "  </thead>\n",
       "  <tbody>\n",
       "    <tr>\n",
       "      <th>0</th>\n",
       "      <td>[Obi-Wan_Kenobi]</td>\n",
       "      <td>Obi-Wan_Kenobi</td>\n",
       "      <td>Microsoft</td>\n",
       "      <td>1</td>\n",
       "    </tr>\n",
       "    <tr>\n",
       "      <th>1</th>\n",
       "      <td>[Julius_Caesar]</td>\n",
       "      <td>Julius_Caesar</td>\n",
       "      <td>Caracas</td>\n",
       "      <td>1</td>\n",
       "    </tr>\n",
       "    <tr>\n",
       "      <th>2</th>\n",
       "      <td>[Malawi, Democracy, Alexander_the_Great]</td>\n",
       "      <td>Malawi</td>\n",
       "      <td>First_Crusade</td>\n",
       "      <td>3</td>\n",
       "    </tr>\n",
       "    <tr>\n",
       "      <th>3</th>\n",
       "      <td>[Paraguay]</td>\n",
       "      <td>Paraguay</td>\n",
       "      <td>Mount_St._Helens</td>\n",
       "      <td>1</td>\n",
       "    </tr>\n",
       "    <tr>\n",
       "      <th>4</th>\n",
       "      <td>[Paraguay, Bolivia]</td>\n",
       "      <td>Paraguay</td>\n",
       "      <td>Mount_St._Helens</td>\n",
       "      <td>2</td>\n",
       "    </tr>\n",
       "    <tr>\n",
       "      <th>...</th>\n",
       "      <td>...</td>\n",
       "      <td>...</td>\n",
       "      <td>...</td>\n",
       "      <td>...</td>\n",
       "    </tr>\n",
       "    <tr>\n",
       "      <th>19624</th>\n",
       "      <td>[Wine, Georgia_%28country%29, Russia]</td>\n",
       "      <td>Wine</td>\n",
       "      <td>History_of_post-Soviet_Russia</td>\n",
       "      <td>3</td>\n",
       "    </tr>\n",
       "    <tr>\n",
       "      <th>19625</th>\n",
       "      <td>[Turks_and_Caicos_Islands, United_States, Iraq...</td>\n",
       "      <td>Turks_and_Caicos_Islands</td>\n",
       "      <td>Iraq_War</td>\n",
       "      <td>6</td>\n",
       "    </tr>\n",
       "    <tr>\n",
       "      <th>19626</th>\n",
       "      <td>[Modern_history]</td>\n",
       "      <td>Modern_history</td>\n",
       "      <td>Hollandic</td>\n",
       "      <td>1</td>\n",
       "    </tr>\n",
       "    <tr>\n",
       "      <th>19627</th>\n",
       "      <td>[Jamaica, United_Kingdom, World_War_II, Battle...</td>\n",
       "      <td>Jamaica</td>\n",
       "      <td>Alan_Turing</td>\n",
       "      <td>4</td>\n",
       "    </tr>\n",
       "    <tr>\n",
       "      <th>19628</th>\n",
       "      <td>[Mark_Antony, Rome, Tennis, Hawk-Eye, Computer]</td>\n",
       "      <td>Mark_Antony</td>\n",
       "      <td>Feather</td>\n",
       "      <td>5</td>\n",
       "    </tr>\n",
       "  </tbody>\n",
       "</table>\n",
       "<p>19629 rows × 4 columns</p>\n",
       "</div>"
      ],
      "text/plain": [
       "                                                    path  \\\n",
       "0                                       [Obi-Wan_Kenobi]   \n",
       "1                                        [Julius_Caesar]   \n",
       "2               [Malawi, Democracy, Alexander_the_Great]   \n",
       "3                                             [Paraguay]   \n",
       "4                                    [Paraguay, Bolivia]   \n",
       "...                                                  ...   \n",
       "19624              [Wine, Georgia_%28country%29, Russia]   \n",
       "19625  [Turks_and_Caicos_Islands, United_States, Iraq...   \n",
       "19626                                   [Modern_history]   \n",
       "19627  [Jamaica, United_Kingdom, World_War_II, Battle...   \n",
       "19628    [Mark_Antony, Rome, Tennis, Hawk-Eye, Computer]   \n",
       "\n",
       "                          start                            end  length  \n",
       "0                Obi-Wan_Kenobi                      Microsoft       1  \n",
       "1                 Julius_Caesar                        Caracas       1  \n",
       "2                        Malawi                  First_Crusade       3  \n",
       "3                      Paraguay               Mount_St._Helens       1  \n",
       "4                      Paraguay               Mount_St._Helens       2  \n",
       "...                         ...                            ...     ...  \n",
       "19624                      Wine  History_of_post-Soviet_Russia       3  \n",
       "19625  Turks_and_Caicos_Islands                       Iraq_War       6  \n",
       "19626            Modern_history                      Hollandic       1  \n",
       "19627                   Jamaica                    Alan_Turing       4  \n",
       "19628               Mark_Antony                        Feather       5  \n",
       "\n",
       "[19629 rows x 4 columns]"
      ]
     },
     "execution_count": 575,
     "metadata": {},
     "output_type": "execute_result"
    }
   ],
   "source": [
    "df_paths_unfinished"
   ]
  },
  {
   "cell_type": "code",
   "execution_count": 576,
   "metadata": {},
   "outputs": [],
   "source": [
    "# drop paths of length 1\n",
    "df_paths_unfinished = df_paths_unfinished[df_paths_unfinished['length'] > 1]"
   ]
  },
  {
   "cell_type": "code",
   "execution_count": 577,
   "metadata": {},
   "outputs": [
    {
     "name": "stderr",
     "output_type": "stream",
     "text": [
      "/var/folders/jg/bpl2xhc13x17j6txgdvzf5940000gn/T/ipykernel_26334/1972011756.py:1: SettingWithCopyWarning: \n",
      "A value is trying to be set on a copy of a slice from a DataFrame.\n",
      "Try using .loc[row_indexer,col_indexer] = value instead\n",
      "\n",
      "See the caveats in the documentation: https://pandas.pydata.org/pandas-docs/stable/user_guide/indexing.html#returning-a-view-versus-a-copy\n",
      "  df_paths_unfinished['article_similarity'] = df_paths_unfinished.apply(lambda row: [article_comparator.compare_articles(article, row['end']) for article in row['path']], axis=1)\n",
      "/var/folders/jg/bpl2xhc13x17j6txgdvzf5940000gn/T/ipykernel_26334/1972011756.py:2: SettingWithCopyWarning: \n",
      "A value is trying to be set on a copy of a slice from a DataFrame.\n",
      "Try using .loc[row_indexer,col_indexer] = value instead\n",
      "\n",
      "See the caveats in the documentation: https://pandas.pydata.org/pandas-docs/stable/user_guide/indexing.html#returning-a-view-versus-a-copy\n",
      "  df_paths_unfinished['title_similarity'] = df_paths_unfinished.apply(lambda row: [article_comparator.compare_titles(article, row['end']) for article in row['path']], axis=1)\n"
     ]
    }
   ],
   "source": [
    "df_paths_unfinished['article_similarity'] = df_paths_unfinished.apply(lambda row: [article_comparator.compare_articles(article, row['end']) for article in row['path']], axis=1)\n",
    "df_paths_unfinished['title_similarity'] = df_paths_unfinished.apply(lambda row: [article_comparator.compare_titles(article, row['end']) for article in row['path']], axis=1)"
   ]
  },
  {
   "cell_type": "code",
   "execution_count": 578,
   "metadata": {},
   "outputs": [
    {
     "data": {
      "text/html": [
       "<div>\n",
       "<style scoped>\n",
       "    .dataframe tbody tr th:only-of-type {\n",
       "        vertical-align: middle;\n",
       "    }\n",
       "\n",
       "    .dataframe tbody tr th {\n",
       "        vertical-align: top;\n",
       "    }\n",
       "\n",
       "    .dataframe thead th {\n",
       "        text-align: right;\n",
       "    }\n",
       "</style>\n",
       "<table border=\"1\" class=\"dataframe\">\n",
       "  <thead>\n",
       "    <tr style=\"text-align: right;\">\n",
       "      <th></th>\n",
       "      <th>path</th>\n",
       "      <th>start</th>\n",
       "      <th>end</th>\n",
       "      <th>length</th>\n",
       "      <th>article_similarity</th>\n",
       "      <th>title_similarity</th>\n",
       "    </tr>\n",
       "  </thead>\n",
       "  <tbody>\n",
       "    <tr>\n",
       "      <th>2</th>\n",
       "      <td>[Malawi, Democracy, Alexander_the_Great]</td>\n",
       "      <td>Malawi</td>\n",
       "      <td>First_Crusade</td>\n",
       "      <td>3</td>\n",
       "      <td>[0.6, 0.5, 0.7]</td>\n",
       "      <td>[0.39, 0.36, 0.5]</td>\n",
       "    </tr>\n",
       "    <tr>\n",
       "      <th>4</th>\n",
       "      <td>[Paraguay, Bolivia]</td>\n",
       "      <td>Paraguay</td>\n",
       "      <td>Mount_St._Helens</td>\n",
       "      <td>2</td>\n",
       "      <td>[0.61, 0.66]</td>\n",
       "      <td>[0.43, 0.47]</td>\n",
       "    </tr>\n",
       "    <tr>\n",
       "      <th>5</th>\n",
       "      <td>[Agriculture, History_of_the_world, China, Yan...</td>\n",
       "      <td>Agriculture</td>\n",
       "      <td>Grand_Canal_of_China</td>\n",
       "      <td>4</td>\n",
       "      <td>[0.28, 0.62, 0.59, 0.79]</td>\n",
       "      <td>[0.18, 0.37, 0.76, 0.56]</td>\n",
       "    </tr>\n",
       "    <tr>\n",
       "      <th>6</th>\n",
       "      <td>[Mind, Christianity, Europe, Renaissance, Anci...</td>\n",
       "      <td>Mind</td>\n",
       "      <td>Scouting</td>\n",
       "      <td>7</td>\n",
       "      <td>[0.48, 0.51, 0.37, 0.5, 0.42, 0.41, 0.36]</td>\n",
       "      <td>[0.58, 0.43, 0.52, 0.49, 0.31, 0.4, 0.54]</td>\n",
       "    </tr>\n",
       "    <tr>\n",
       "      <th>7</th>\n",
       "      <td>[4-2-0, United_States, Agriculture, Sugar, Aus...</td>\n",
       "      <td>4-2-0</td>\n",
       "      <td>Cane_Toad</td>\n",
       "      <td>5</td>\n",
       "      <td>[0.49, 0.62, 0.39, 0.64, 0.65]</td>\n",
       "      <td>[0.45, 0.3, 0.34, 0.57, 0.29]</td>\n",
       "    </tr>\n",
       "    <tr>\n",
       "      <th>...</th>\n",
       "      <td>...</td>\n",
       "      <td>...</td>\n",
       "      <td>...</td>\n",
       "      <td>...</td>\n",
       "      <td>...</td>\n",
       "      <td>...</td>\n",
       "    </tr>\n",
       "    <tr>\n",
       "      <th>19623</th>\n",
       "      <td>[Montenegro, World_War_II, United_States, Cari...</td>\n",
       "      <td>Montenegro</td>\n",
       "      <td>Hurricane_Georges</td>\n",
       "      <td>7</td>\n",
       "      <td>[0.63, 0.67, 0.66, 0.61, 0.76, 0.84, 0.9]</td>\n",
       "      <td>[0.37, 0.4, 0.37, 0.45, 0.85, 0.79, 0.75]</td>\n",
       "    </tr>\n",
       "    <tr>\n",
       "      <th>19624</th>\n",
       "      <td>[Wine, Georgia_%28country%29, Russia]</td>\n",
       "      <td>Wine</td>\n",
       "      <td>History_of_post-Soviet_Russia</td>\n",
       "      <td>3</td>\n",
       "      <td>[0.38, 0.71, 0.75]</td>\n",
       "      <td>[0.22, 0.4, 0.75]</td>\n",
       "    </tr>\n",
       "    <tr>\n",
       "      <th>19625</th>\n",
       "      <td>[Turks_and_Caicos_Islands, United_States, Iraq...</td>\n",
       "      <td>Turks_and_Caicos_Islands</td>\n",
       "      <td>Iraq_War</td>\n",
       "      <td>6</td>\n",
       "      <td>[0.55, 0.62, 0.76, 0.65, 0.8, 0.74]</td>\n",
       "      <td>[0.25, 0.5, 0.9, 0.48, 0.63, 0.7]</td>\n",
       "    </tr>\n",
       "    <tr>\n",
       "      <th>19627</th>\n",
       "      <td>[Jamaica, United_Kingdom, World_War_II, Battle...</td>\n",
       "      <td>Jamaica</td>\n",
       "      <td>Alan_Turing</td>\n",
       "      <td>4</td>\n",
       "      <td>[0.58, 0.62, 0.6, 0.54]</td>\n",
       "      <td>[0.41, 0.6, 0.41, 0.41]</td>\n",
       "    </tr>\n",
       "    <tr>\n",
       "      <th>19628</th>\n",
       "      <td>[Mark_Antony, Rome, Tennis, Hawk-Eye, Computer]</td>\n",
       "      <td>Mark_Antony</td>\n",
       "      <td>Feather</td>\n",
       "      <td>5</td>\n",
       "      <td>[0.47, 0.37, 0.47, 0.54, 0.59]</td>\n",
       "      <td>[0.6, 0.62, 0.38, 0.58, 0.41]</td>\n",
       "    </tr>\n",
       "  </tbody>\n",
       "</table>\n",
       "<p>14433 rows × 6 columns</p>\n",
       "</div>"
      ],
      "text/plain": [
       "                                                    path  \\\n",
       "2               [Malawi, Democracy, Alexander_the_Great]   \n",
       "4                                    [Paraguay, Bolivia]   \n",
       "5      [Agriculture, History_of_the_world, China, Yan...   \n",
       "6      [Mind, Christianity, Europe, Renaissance, Anci...   \n",
       "7      [4-2-0, United_States, Agriculture, Sugar, Aus...   \n",
       "...                                                  ...   \n",
       "19623  [Montenegro, World_War_II, United_States, Cari...   \n",
       "19624              [Wine, Georgia_%28country%29, Russia]   \n",
       "19625  [Turks_and_Caicos_Islands, United_States, Iraq...   \n",
       "19627  [Jamaica, United_Kingdom, World_War_II, Battle...   \n",
       "19628    [Mark_Antony, Rome, Tennis, Hawk-Eye, Computer]   \n",
       "\n",
       "                          start                            end  length  \\\n",
       "2                        Malawi                  First_Crusade       3   \n",
       "4                      Paraguay               Mount_St._Helens       2   \n",
       "5                   Agriculture           Grand_Canal_of_China       4   \n",
       "6                          Mind                       Scouting       7   \n",
       "7                         4-2-0                      Cane_Toad       5   \n",
       "...                         ...                            ...     ...   \n",
       "19623                Montenegro              Hurricane_Georges       7   \n",
       "19624                      Wine  History_of_post-Soviet_Russia       3   \n",
       "19625  Turks_and_Caicos_Islands                       Iraq_War       6   \n",
       "19627                   Jamaica                    Alan_Turing       4   \n",
       "19628               Mark_Antony                        Feather       5   \n",
       "\n",
       "                              article_similarity  \\\n",
       "2                                [0.6, 0.5, 0.7]   \n",
       "4                                   [0.61, 0.66]   \n",
       "5                       [0.28, 0.62, 0.59, 0.79]   \n",
       "6      [0.48, 0.51, 0.37, 0.5, 0.42, 0.41, 0.36]   \n",
       "7                 [0.49, 0.62, 0.39, 0.64, 0.65]   \n",
       "...                                          ...   \n",
       "19623  [0.63, 0.67, 0.66, 0.61, 0.76, 0.84, 0.9]   \n",
       "19624                         [0.38, 0.71, 0.75]   \n",
       "19625        [0.55, 0.62, 0.76, 0.65, 0.8, 0.74]   \n",
       "19627                    [0.58, 0.62, 0.6, 0.54]   \n",
       "19628             [0.47, 0.37, 0.47, 0.54, 0.59]   \n",
       "\n",
       "                                title_similarity  \n",
       "2                              [0.39, 0.36, 0.5]  \n",
       "4                                   [0.43, 0.47]  \n",
       "5                       [0.18, 0.37, 0.76, 0.56]  \n",
       "6      [0.58, 0.43, 0.52, 0.49, 0.31, 0.4, 0.54]  \n",
       "7                  [0.45, 0.3, 0.34, 0.57, 0.29]  \n",
       "...                                          ...  \n",
       "19623  [0.37, 0.4, 0.37, 0.45, 0.85, 0.79, 0.75]  \n",
       "19624                          [0.22, 0.4, 0.75]  \n",
       "19625          [0.25, 0.5, 0.9, 0.48, 0.63, 0.7]  \n",
       "19627                    [0.41, 0.6, 0.41, 0.41]  \n",
       "19628              [0.6, 0.62, 0.38, 0.58, 0.41]  \n",
       "\n",
       "[14433 rows x 6 columns]"
      ]
     },
     "execution_count": 578,
     "metadata": {},
     "output_type": "execute_result"
    }
   ],
   "source": [
    "df_paths_unfinished"
   ]
  },
  {
   "cell_type": "code",
   "execution_count": 579,
   "metadata": {},
   "outputs": [
    {
     "name": "stderr",
     "output_type": "stream",
     "text": [
      "/var/folders/jg/bpl2xhc13x17j6txgdvzf5940000gn/T/ipykernel_26334/4230566007.py:1: SettingWithCopyWarning: \n",
      "A value is trying to be set on a copy of a slice from a DataFrame.\n",
      "Try using .loc[row_indexer,col_indexer] = value instead\n",
      "\n",
      "See the caveats in the documentation: https://pandas.pydata.org/pandas-docs/stable/user_guide/indexing.html#returning-a-view-versus-a-copy\n",
      "  df_paths_unfinished['score_article_similarity'] = df_paths_unfinished.apply(lambda row: path_score(row['article_similarity']), axis=1)\n",
      "/var/folders/jg/bpl2xhc13x17j6txgdvzf5940000gn/T/ipykernel_26334/4230566007.py:2: SettingWithCopyWarning: \n",
      "A value is trying to be set on a copy of a slice from a DataFrame.\n",
      "Try using .loc[row_indexer,col_indexer] = value instead\n",
      "\n",
      "See the caveats in the documentation: https://pandas.pydata.org/pandas-docs/stable/user_guide/indexing.html#returning-a-view-versus-a-copy\n",
      "  df_paths_unfinished['score_title_similarity'] = df_paths_unfinished.apply(lambda row: path_score(row['title_similarity']), axis=1)\n"
     ]
    }
   ],
   "source": [
    "df_paths_unfinished['score_article_similarity'] = df_paths_unfinished.apply(lambda row: path_score(row['article_similarity']), axis=1)\n",
    "df_paths_unfinished['score_title_similarity'] = df_paths_unfinished.apply(lambda row: path_score(row['title_similarity']), axis=1)"
   ]
  },
  {
   "cell_type": "code",
   "execution_count": 580,
   "metadata": {},
   "outputs": [
    {
     "data": {
      "text/html": [
       "<div>\n",
       "<style scoped>\n",
       "    .dataframe tbody tr th:only-of-type {\n",
       "        vertical-align: middle;\n",
       "    }\n",
       "\n",
       "    .dataframe tbody tr th {\n",
       "        vertical-align: top;\n",
       "    }\n",
       "\n",
       "    .dataframe thead th {\n",
       "        text-align: right;\n",
       "    }\n",
       "</style>\n",
       "<table border=\"1\" class=\"dataframe\">\n",
       "  <thead>\n",
       "    <tr style=\"text-align: right;\">\n",
       "      <th></th>\n",
       "      <th>path</th>\n",
       "      <th>start</th>\n",
       "      <th>end</th>\n",
       "      <th>length</th>\n",
       "      <th>article_similarity</th>\n",
       "      <th>title_similarity</th>\n",
       "      <th>score_article_similarity</th>\n",
       "      <th>score_title_similarity</th>\n",
       "    </tr>\n",
       "  </thead>\n",
       "  <tbody>\n",
       "    <tr>\n",
       "      <th>2</th>\n",
       "      <td>[Malawi, Democracy, Alexander_the_Great]</td>\n",
       "      <td>Malawi</td>\n",
       "      <td>First_Crusade</td>\n",
       "      <td>3</td>\n",
       "      <td>[0.6, 0.5, 0.7]</td>\n",
       "      <td>[0.39, 0.36, 0.5]</td>\n",
       "      <td>-0.50</td>\n",
       "      <td>0.00</td>\n",
       "    </tr>\n",
       "    <tr>\n",
       "      <th>4</th>\n",
       "      <td>[Paraguay, Bolivia]</td>\n",
       "      <td>Paraguay</td>\n",
       "      <td>Mount_St._Helens</td>\n",
       "      <td>2</td>\n",
       "      <td>[0.61, 0.66]</td>\n",
       "      <td>[0.43, 0.47]</td>\n",
       "      <td>0.00</td>\n",
       "      <td>0.00</td>\n",
       "    </tr>\n",
       "    <tr>\n",
       "      <th>5</th>\n",
       "      <td>[Agriculture, History_of_the_world, China, Yan...</td>\n",
       "      <td>Agriculture</td>\n",
       "      <td>Grand_Canal_of_China</td>\n",
       "      <td>4</td>\n",
       "      <td>[0.28, 0.62, 0.59, 0.79]</td>\n",
       "      <td>[0.18, 0.37, 0.76, 0.56]</td>\n",
       "      <td>0.33</td>\n",
       "      <td>0.67</td>\n",
       "    </tr>\n",
       "    <tr>\n",
       "      <th>6</th>\n",
       "      <td>[Mind, Christianity, Europe, Renaissance, Anci...</td>\n",
       "      <td>Mind</td>\n",
       "      <td>Scouting</td>\n",
       "      <td>7</td>\n",
       "      <td>[0.48, 0.51, 0.37, 0.5, 0.42, 0.41, 0.36]</td>\n",
       "      <td>[0.58, 0.43, 0.52, 0.49, 0.31, 0.4, 0.54]</td>\n",
       "      <td>-0.17</td>\n",
       "      <td>0.00</td>\n",
       "    </tr>\n",
       "    <tr>\n",
       "      <th>7</th>\n",
       "      <td>[4-2-0, United_States, Agriculture, Sugar, Aus...</td>\n",
       "      <td>4-2-0</td>\n",
       "      <td>Cane_Toad</td>\n",
       "      <td>5</td>\n",
       "      <td>[0.49, 0.62, 0.39, 0.64, 0.65]</td>\n",
       "      <td>[0.45, 0.3, 0.34, 0.57, 0.29]</td>\n",
       "      <td>0.25</td>\n",
       "      <td>0.00</td>\n",
       "    </tr>\n",
       "    <tr>\n",
       "      <th>...</th>\n",
       "      <td>...</td>\n",
       "      <td>...</td>\n",
       "      <td>...</td>\n",
       "      <td>...</td>\n",
       "      <td>...</td>\n",
       "      <td>...</td>\n",
       "      <td>...</td>\n",
       "      <td>...</td>\n",
       "    </tr>\n",
       "    <tr>\n",
       "      <th>19623</th>\n",
       "      <td>[Montenegro, World_War_II, United_States, Cari...</td>\n",
       "      <td>Montenegro</td>\n",
       "      <td>Hurricane_Georges</td>\n",
       "      <td>7</td>\n",
       "      <td>[0.63, 0.67, 0.66, 0.61, 0.76, 0.84, 0.9]</td>\n",
       "      <td>[0.37, 0.4, 0.37, 0.45, 0.85, 0.79, 0.75]</td>\n",
       "      <td>0.17</td>\n",
       "      <td>0.17</td>\n",
       "    </tr>\n",
       "    <tr>\n",
       "      <th>19624</th>\n",
       "      <td>[Wine, Georgia_%28country%29, Russia]</td>\n",
       "      <td>Wine</td>\n",
       "      <td>History_of_post-Soviet_Russia</td>\n",
       "      <td>3</td>\n",
       "      <td>[0.38, 0.71, 0.75]</td>\n",
       "      <td>[0.22, 0.4, 0.75]</td>\n",
       "      <td>0.50</td>\n",
       "      <td>0.50</td>\n",
       "    </tr>\n",
       "    <tr>\n",
       "      <th>19625</th>\n",
       "      <td>[Turks_and_Caicos_Islands, United_States, Iraq...</td>\n",
       "      <td>Turks_and_Caicos_Islands</td>\n",
       "      <td>Iraq_War</td>\n",
       "      <td>6</td>\n",
       "      <td>[0.55, 0.62, 0.76, 0.65, 0.8, 0.74]</td>\n",
       "      <td>[0.25, 0.5, 0.9, 0.48, 0.63, 0.7]</td>\n",
       "      <td>0.40</td>\n",
       "      <td>0.40</td>\n",
       "    </tr>\n",
       "    <tr>\n",
       "      <th>19627</th>\n",
       "      <td>[Jamaica, United_Kingdom, World_War_II, Battle...</td>\n",
       "      <td>Jamaica</td>\n",
       "      <td>Alan_Turing</td>\n",
       "      <td>4</td>\n",
       "      <td>[0.58, 0.62, 0.6, 0.54]</td>\n",
       "      <td>[0.41, 0.6, 0.41, 0.41]</td>\n",
       "      <td>0.00</td>\n",
       "      <td>0.00</td>\n",
       "    </tr>\n",
       "    <tr>\n",
       "      <th>19628</th>\n",
       "      <td>[Mark_Antony, Rome, Tennis, Hawk-Eye, Computer]</td>\n",
       "      <td>Mark_Antony</td>\n",
       "      <td>Feather</td>\n",
       "      <td>5</td>\n",
       "      <td>[0.47, 0.37, 0.47, 0.54, 0.59]</td>\n",
       "      <td>[0.6, 0.62, 0.38, 0.58, 0.41]</td>\n",
       "      <td>0.25</td>\n",
       "      <td>0.00</td>\n",
       "    </tr>\n",
       "  </tbody>\n",
       "</table>\n",
       "<p>14433 rows × 8 columns</p>\n",
       "</div>"
      ],
      "text/plain": [
       "                                                    path  \\\n",
       "2               [Malawi, Democracy, Alexander_the_Great]   \n",
       "4                                    [Paraguay, Bolivia]   \n",
       "5      [Agriculture, History_of_the_world, China, Yan...   \n",
       "6      [Mind, Christianity, Europe, Renaissance, Anci...   \n",
       "7      [4-2-0, United_States, Agriculture, Sugar, Aus...   \n",
       "...                                                  ...   \n",
       "19623  [Montenegro, World_War_II, United_States, Cari...   \n",
       "19624              [Wine, Georgia_%28country%29, Russia]   \n",
       "19625  [Turks_and_Caicos_Islands, United_States, Iraq...   \n",
       "19627  [Jamaica, United_Kingdom, World_War_II, Battle...   \n",
       "19628    [Mark_Antony, Rome, Tennis, Hawk-Eye, Computer]   \n",
       "\n",
       "                          start                            end  length  \\\n",
       "2                        Malawi                  First_Crusade       3   \n",
       "4                      Paraguay               Mount_St._Helens       2   \n",
       "5                   Agriculture           Grand_Canal_of_China       4   \n",
       "6                          Mind                       Scouting       7   \n",
       "7                         4-2-0                      Cane_Toad       5   \n",
       "...                         ...                            ...     ...   \n",
       "19623                Montenegro              Hurricane_Georges       7   \n",
       "19624                      Wine  History_of_post-Soviet_Russia       3   \n",
       "19625  Turks_and_Caicos_Islands                       Iraq_War       6   \n",
       "19627                   Jamaica                    Alan_Turing       4   \n",
       "19628               Mark_Antony                        Feather       5   \n",
       "\n",
       "                              article_similarity  \\\n",
       "2                                [0.6, 0.5, 0.7]   \n",
       "4                                   [0.61, 0.66]   \n",
       "5                       [0.28, 0.62, 0.59, 0.79]   \n",
       "6      [0.48, 0.51, 0.37, 0.5, 0.42, 0.41, 0.36]   \n",
       "7                 [0.49, 0.62, 0.39, 0.64, 0.65]   \n",
       "...                                          ...   \n",
       "19623  [0.63, 0.67, 0.66, 0.61, 0.76, 0.84, 0.9]   \n",
       "19624                         [0.38, 0.71, 0.75]   \n",
       "19625        [0.55, 0.62, 0.76, 0.65, 0.8, 0.74]   \n",
       "19627                    [0.58, 0.62, 0.6, 0.54]   \n",
       "19628             [0.47, 0.37, 0.47, 0.54, 0.59]   \n",
       "\n",
       "                                title_similarity  score_article_similarity  \\\n",
       "2                              [0.39, 0.36, 0.5]                     -0.50   \n",
       "4                                   [0.43, 0.47]                      0.00   \n",
       "5                       [0.18, 0.37, 0.76, 0.56]                      0.33   \n",
       "6      [0.58, 0.43, 0.52, 0.49, 0.31, 0.4, 0.54]                     -0.17   \n",
       "7                  [0.45, 0.3, 0.34, 0.57, 0.29]                      0.25   \n",
       "...                                          ...                       ...   \n",
       "19623  [0.37, 0.4, 0.37, 0.45, 0.85, 0.79, 0.75]                      0.17   \n",
       "19624                          [0.22, 0.4, 0.75]                      0.50   \n",
       "19625          [0.25, 0.5, 0.9, 0.48, 0.63, 0.7]                      0.40   \n",
       "19627                    [0.41, 0.6, 0.41, 0.41]                      0.00   \n",
       "19628              [0.6, 0.62, 0.38, 0.58, 0.41]                      0.25   \n",
       "\n",
       "       score_title_similarity  \n",
       "2                        0.00  \n",
       "4                        0.00  \n",
       "5                        0.67  \n",
       "6                        0.00  \n",
       "7                        0.00  \n",
       "...                       ...  \n",
       "19623                    0.17  \n",
       "19624                    0.50  \n",
       "19625                    0.40  \n",
       "19627                    0.00  \n",
       "19628                    0.00  \n",
       "\n",
       "[14433 rows x 8 columns]"
      ]
     },
     "execution_count": 580,
     "metadata": {},
     "output_type": "execute_result"
    }
   ],
   "source": [
    "df_paths_unfinished"
   ]
  },
  {
   "cell_type": "code",
   "execution_count": 581,
   "metadata": {},
   "outputs": [
    {
     "name": "stderr",
     "output_type": "stream",
     "text": [
      "/var/folders/jg/bpl2xhc13x17j6txgdvzf5940000gn/T/ipykernel_26334/3392773228.py:2: SettingWithCopyWarning: \n",
      "A value is trying to be set on a copy of a slice from a DataFrame.\n",
      "Try using .loc[row_indexer,col_indexer] = value instead\n",
      "\n",
      "See the caveats in the documentation: https://pandas.pydata.org/pandas-docs/stable/user_guide/indexing.html#returning-a-view-versus-a-copy\n",
      "  df_paths_unfinished['type'] = df_paths_unfinished.apply(lambda row: 0 if row['score_article_similarity'] == row['score_title_similarity'] else 1 if row['score_article_similarity'] > row['score_title_similarity'] else 2, axis=1)\n"
     ]
    }
   ],
   "source": [
    "# add column 0 if score article  = score tile, 1 id score article > score title, 2 if score article < score title\n",
    "df_paths_unfinished['type'] = df_paths_unfinished.apply(lambda row: 0 if row['score_article_similarity'] == row['score_title_similarity'] else 1 if row['score_article_similarity'] > row['score_title_similarity'] else 2, axis=1)"
   ]
  },
  {
   "cell_type": "code",
   "execution_count": 582,
   "metadata": {},
   "outputs": [
    {
     "name": "stderr",
     "output_type": "stream",
     "text": [
      "/var/folders/jg/bpl2xhc13x17j6txgdvzf5940000gn/T/ipykernel_26334/1413818998.py:1: SettingWithCopyWarning: \n",
      "A value is trying to be set on a copy of a slice from a DataFrame.\n",
      "Try using .loc[row_indexer,col_indexer] = value instead\n",
      "\n",
      "See the caveats in the documentation: https://pandas.pydata.org/pandas-docs/stable/user_guide/indexing.html#returning-a-view-versus-a-copy\n",
      "  df_paths_unfinished['percentage_inc_article_sim'] = df_paths_unfinished.apply(lambda row: percentage_increase(row['article_similarity']), axis=1)\n",
      "/var/folders/jg/bpl2xhc13x17j6txgdvzf5940000gn/T/ipykernel_26334/1413818998.py:2: SettingWithCopyWarning: \n",
      "A value is trying to be set on a copy of a slice from a DataFrame.\n",
      "Try using .loc[row_indexer,col_indexer] = value instead\n",
      "\n",
      "See the caveats in the documentation: https://pandas.pydata.org/pandas-docs/stable/user_guide/indexing.html#returning-a-view-versus-a-copy\n",
      "  df_paths_unfinished['percentage_inc_title_sim'] = df_paths_unfinished.apply(lambda row: percentage_increase(row['title_similarity']), axis=1)\n"
     ]
    }
   ],
   "source": [
    "df_paths_unfinished['percentage_inc_article_sim'] = df_paths_unfinished.apply(lambda row: percentage_increase(row['article_similarity']), axis=1)\n",
    "df_paths_unfinished['percentage_inc_title_sim'] = df_paths_unfinished.apply(lambda row: percentage_increase(row['title_similarity']), axis=1)\n"
   ]
  },
  {
   "cell_type": "code",
   "execution_count": 583,
   "metadata": {},
   "outputs": [
    {
     "data": {
      "text/html": [
       "<div>\n",
       "<style scoped>\n",
       "    .dataframe tbody tr th:only-of-type {\n",
       "        vertical-align: middle;\n",
       "    }\n",
       "\n",
       "    .dataframe tbody tr th {\n",
       "        vertical-align: top;\n",
       "    }\n",
       "\n",
       "    .dataframe thead th {\n",
       "        text-align: right;\n",
       "    }\n",
       "</style>\n",
       "<table border=\"1\" class=\"dataframe\">\n",
       "  <thead>\n",
       "    <tr style=\"text-align: right;\">\n",
       "      <th></th>\n",
       "      <th>path</th>\n",
       "      <th>start</th>\n",
       "      <th>end</th>\n",
       "      <th>length</th>\n",
       "      <th>article_similarity</th>\n",
       "      <th>title_similarity</th>\n",
       "      <th>score_article_similarity</th>\n",
       "      <th>score_title_similarity</th>\n",
       "      <th>type</th>\n",
       "      <th>percentage_inc_article_sim</th>\n",
       "      <th>percentage_inc_title_sim</th>\n",
       "    </tr>\n",
       "  </thead>\n",
       "  <tbody>\n",
       "    <tr>\n",
       "      <th>2</th>\n",
       "      <td>[Malawi, Democracy, Alexander_the_Great]</td>\n",
       "      <td>Malawi</td>\n",
       "      <td>First_Crusade</td>\n",
       "      <td>3</td>\n",
       "      <td>[0.6, 0.5, 0.7]</td>\n",
       "      <td>[0.39, 0.36, 0.5]</td>\n",
       "      <td>-0.50</td>\n",
       "      <td>0.00</td>\n",
       "      <td>2</td>\n",
       "      <td>0.00</td>\n",
       "      <td>0.00</td>\n",
       "    </tr>\n",
       "    <tr>\n",
       "      <th>4</th>\n",
       "      <td>[Paraguay, Bolivia]</td>\n",
       "      <td>Paraguay</td>\n",
       "      <td>Mount_St._Helens</td>\n",
       "      <td>2</td>\n",
       "      <td>[0.61, 0.66]</td>\n",
       "      <td>[0.43, 0.47]</td>\n",
       "      <td>0.00</td>\n",
       "      <td>0.00</td>\n",
       "      <td>0</td>\n",
       "      <td>0.00</td>\n",
       "      <td>0.00</td>\n",
       "    </tr>\n",
       "    <tr>\n",
       "      <th>5</th>\n",
       "      <td>[Agriculture, History_of_the_world, China, Yan...</td>\n",
       "      <td>Agriculture</td>\n",
       "      <td>Grand_Canal_of_China</td>\n",
       "      <td>4</td>\n",
       "      <td>[0.28, 0.62, 0.59, 0.79]</td>\n",
       "      <td>[0.18, 0.37, 0.76, 0.56]</td>\n",
       "      <td>0.33</td>\n",
       "      <td>0.67</td>\n",
       "      <td>2</td>\n",
       "      <td>0.33</td>\n",
       "      <td>0.67</td>\n",
       "    </tr>\n",
       "    <tr>\n",
       "      <th>6</th>\n",
       "      <td>[Mind, Christianity, Europe, Renaissance, Anci...</td>\n",
       "      <td>Mind</td>\n",
       "      <td>Scouting</td>\n",
       "      <td>7</td>\n",
       "      <td>[0.48, 0.51, 0.37, 0.5, 0.42, 0.41, 0.36]</td>\n",
       "      <td>[0.58, 0.43, 0.52, 0.49, 0.31, 0.4, 0.54]</td>\n",
       "      <td>-0.17</td>\n",
       "      <td>0.00</td>\n",
       "      <td>2</td>\n",
       "      <td>0.33</td>\n",
       "      <td>0.33</td>\n",
       "    </tr>\n",
       "    <tr>\n",
       "      <th>7</th>\n",
       "      <td>[4-2-0, United_States, Agriculture, Sugar, Aus...</td>\n",
       "      <td>4-2-0</td>\n",
       "      <td>Cane_Toad</td>\n",
       "      <td>5</td>\n",
       "      <td>[0.49, 0.62, 0.39, 0.64, 0.65]</td>\n",
       "      <td>[0.45, 0.3, 0.34, 0.57, 0.29]</td>\n",
       "      <td>0.25</td>\n",
       "      <td>0.00</td>\n",
       "      <td>1</td>\n",
       "      <td>0.50</td>\n",
       "      <td>0.50</td>\n",
       "    </tr>\n",
       "    <tr>\n",
       "      <th>...</th>\n",
       "      <td>...</td>\n",
       "      <td>...</td>\n",
       "      <td>...</td>\n",
       "      <td>...</td>\n",
       "      <td>...</td>\n",
       "      <td>...</td>\n",
       "      <td>...</td>\n",
       "      <td>...</td>\n",
       "      <td>...</td>\n",
       "      <td>...</td>\n",
       "      <td>...</td>\n",
       "    </tr>\n",
       "    <tr>\n",
       "      <th>19623</th>\n",
       "      <td>[Montenegro, World_War_II, United_States, Cari...</td>\n",
       "      <td>Montenegro</td>\n",
       "      <td>Hurricane_Georges</td>\n",
       "      <td>7</td>\n",
       "      <td>[0.63, 0.67, 0.66, 0.61, 0.76, 0.84, 0.9]</td>\n",
       "      <td>[0.37, 0.4, 0.37, 0.45, 0.85, 0.79, 0.75]</td>\n",
       "      <td>0.17</td>\n",
       "      <td>0.17</td>\n",
       "      <td>0</td>\n",
       "      <td>0.50</td>\n",
       "      <td>0.50</td>\n",
       "    </tr>\n",
       "    <tr>\n",
       "      <th>19624</th>\n",
       "      <td>[Wine, Georgia_%28country%29, Russia]</td>\n",
       "      <td>Wine</td>\n",
       "      <td>History_of_post-Soviet_Russia</td>\n",
       "      <td>3</td>\n",
       "      <td>[0.38, 0.71, 0.75]</td>\n",
       "      <td>[0.22, 0.4, 0.75]</td>\n",
       "      <td>0.50</td>\n",
       "      <td>0.50</td>\n",
       "      <td>0</td>\n",
       "      <td>0.50</td>\n",
       "      <td>0.50</td>\n",
       "    </tr>\n",
       "    <tr>\n",
       "      <th>19625</th>\n",
       "      <td>[Turks_and_Caicos_Islands, United_States, Iraq...</td>\n",
       "      <td>Turks_and_Caicos_Islands</td>\n",
       "      <td>Iraq_War</td>\n",
       "      <td>6</td>\n",
       "      <td>[0.55, 0.62, 0.76, 0.65, 0.8, 0.74]</td>\n",
       "      <td>[0.25, 0.5, 0.9, 0.48, 0.63, 0.7]</td>\n",
       "      <td>0.40</td>\n",
       "      <td>0.40</td>\n",
       "      <td>0</td>\n",
       "      <td>0.60</td>\n",
       "      <td>0.60</td>\n",
       "    </tr>\n",
       "    <tr>\n",
       "      <th>19627</th>\n",
       "      <td>[Jamaica, United_Kingdom, World_War_II, Battle...</td>\n",
       "      <td>Jamaica</td>\n",
       "      <td>Alan_Turing</td>\n",
       "      <td>4</td>\n",
       "      <td>[0.58, 0.62, 0.6, 0.54]</td>\n",
       "      <td>[0.41, 0.6, 0.41, 0.41]</td>\n",
       "      <td>0.00</td>\n",
       "      <td>0.00</td>\n",
       "      <td>0</td>\n",
       "      <td>0.33</td>\n",
       "      <td>0.33</td>\n",
       "    </tr>\n",
       "    <tr>\n",
       "      <th>19628</th>\n",
       "      <td>[Mark_Antony, Rome, Tennis, Hawk-Eye, Computer]</td>\n",
       "      <td>Mark_Antony</td>\n",
       "      <td>Feather</td>\n",
       "      <td>5</td>\n",
       "      <td>[0.47, 0.37, 0.47, 0.54, 0.59]</td>\n",
       "      <td>[0.6, 0.62, 0.38, 0.58, 0.41]</td>\n",
       "      <td>0.25</td>\n",
       "      <td>0.00</td>\n",
       "      <td>1</td>\n",
       "      <td>0.50</td>\n",
       "      <td>0.50</td>\n",
       "    </tr>\n",
       "  </tbody>\n",
       "</table>\n",
       "<p>14433 rows × 11 columns</p>\n",
       "</div>"
      ],
      "text/plain": [
       "                                                    path  \\\n",
       "2               [Malawi, Democracy, Alexander_the_Great]   \n",
       "4                                    [Paraguay, Bolivia]   \n",
       "5      [Agriculture, History_of_the_world, China, Yan...   \n",
       "6      [Mind, Christianity, Europe, Renaissance, Anci...   \n",
       "7      [4-2-0, United_States, Agriculture, Sugar, Aus...   \n",
       "...                                                  ...   \n",
       "19623  [Montenegro, World_War_II, United_States, Cari...   \n",
       "19624              [Wine, Georgia_%28country%29, Russia]   \n",
       "19625  [Turks_and_Caicos_Islands, United_States, Iraq...   \n",
       "19627  [Jamaica, United_Kingdom, World_War_II, Battle...   \n",
       "19628    [Mark_Antony, Rome, Tennis, Hawk-Eye, Computer]   \n",
       "\n",
       "                          start                            end  length  \\\n",
       "2                        Malawi                  First_Crusade       3   \n",
       "4                      Paraguay               Mount_St._Helens       2   \n",
       "5                   Agriculture           Grand_Canal_of_China       4   \n",
       "6                          Mind                       Scouting       7   \n",
       "7                         4-2-0                      Cane_Toad       5   \n",
       "...                         ...                            ...     ...   \n",
       "19623                Montenegro              Hurricane_Georges       7   \n",
       "19624                      Wine  History_of_post-Soviet_Russia       3   \n",
       "19625  Turks_and_Caicos_Islands                       Iraq_War       6   \n",
       "19627                   Jamaica                    Alan_Turing       4   \n",
       "19628               Mark_Antony                        Feather       5   \n",
       "\n",
       "                              article_similarity  \\\n",
       "2                                [0.6, 0.5, 0.7]   \n",
       "4                                   [0.61, 0.66]   \n",
       "5                       [0.28, 0.62, 0.59, 0.79]   \n",
       "6      [0.48, 0.51, 0.37, 0.5, 0.42, 0.41, 0.36]   \n",
       "7                 [0.49, 0.62, 0.39, 0.64, 0.65]   \n",
       "...                                          ...   \n",
       "19623  [0.63, 0.67, 0.66, 0.61, 0.76, 0.84, 0.9]   \n",
       "19624                         [0.38, 0.71, 0.75]   \n",
       "19625        [0.55, 0.62, 0.76, 0.65, 0.8, 0.74]   \n",
       "19627                    [0.58, 0.62, 0.6, 0.54]   \n",
       "19628             [0.47, 0.37, 0.47, 0.54, 0.59]   \n",
       "\n",
       "                                title_similarity  score_article_similarity  \\\n",
       "2                              [0.39, 0.36, 0.5]                     -0.50   \n",
       "4                                   [0.43, 0.47]                      0.00   \n",
       "5                       [0.18, 0.37, 0.76, 0.56]                      0.33   \n",
       "6      [0.58, 0.43, 0.52, 0.49, 0.31, 0.4, 0.54]                     -0.17   \n",
       "7                  [0.45, 0.3, 0.34, 0.57, 0.29]                      0.25   \n",
       "...                                          ...                       ...   \n",
       "19623  [0.37, 0.4, 0.37, 0.45, 0.85, 0.79, 0.75]                      0.17   \n",
       "19624                          [0.22, 0.4, 0.75]                      0.50   \n",
       "19625          [0.25, 0.5, 0.9, 0.48, 0.63, 0.7]                      0.40   \n",
       "19627                    [0.41, 0.6, 0.41, 0.41]                      0.00   \n",
       "19628              [0.6, 0.62, 0.38, 0.58, 0.41]                      0.25   \n",
       "\n",
       "       score_title_similarity  type  percentage_inc_article_sim  \\\n",
       "2                        0.00     2                        0.00   \n",
       "4                        0.00     0                        0.00   \n",
       "5                        0.67     2                        0.33   \n",
       "6                        0.00     2                        0.33   \n",
       "7                        0.00     1                        0.50   \n",
       "...                       ...   ...                         ...   \n",
       "19623                    0.17     0                        0.50   \n",
       "19624                    0.50     0                        0.50   \n",
       "19625                    0.40     0                        0.60   \n",
       "19627                    0.00     0                        0.33   \n",
       "19628                    0.00     1                        0.50   \n",
       "\n",
       "       percentage_inc_title_sim  \n",
       "2                          0.00  \n",
       "4                          0.00  \n",
       "5                          0.67  \n",
       "6                          0.33  \n",
       "7                          0.50  \n",
       "...                         ...  \n",
       "19623                      0.50  \n",
       "19624                      0.50  \n",
       "19625                      0.60  \n",
       "19627                      0.33  \n",
       "19628                      0.50  \n",
       "\n",
       "[14433 rows x 11 columns]"
      ]
     },
     "execution_count": 583,
     "metadata": {},
     "output_type": "execute_result"
    }
   ],
   "source": [
    "df_paths_unfinished"
   ]
  },
  {
   "cell_type": "code",
   "execution_count": 584,
   "metadata": {},
   "outputs": [],
   "source": [
    "# drop the entries where the length appear less than 10 times\n",
    "df_paths_multiple_u = df_paths_unfinished.groupby('length').filter(lambda x: len(x) > 100)"
   ]
  },
  {
   "cell_type": "code",
   "execution_count": 585,
   "metadata": {},
   "outputs": [
    {
     "data": {
      "text/plain": [
       "<AxesSubplot: title={'center': 'Proportion of paths types per length'}, xlabel='length'>"
      ]
     },
     "execution_count": 585,
     "metadata": {},
     "output_type": "execute_result"
    },
    {
     "data": {
      "image/png": "[encoded data removed]",
      "text/plain": [
       "<Figure size 2000x1000 with 1 Axes>"
      ]
     },
     "metadata": {},
     "output_type": "display_data"
    }
   ],
   "source": [
    "# plot the percentage of playerType 0, 1, 2 per length \n",
    "frite = df_paths_multiple_u.groupby(['length', 'type'], group_keys=False).size().groupby(level=0, group_keys=False).apply(lambda x: 100 * x / float(x.sum())).unstack()\n",
    "\n",
    "# set the color of the bars\n",
    "fig, ax = plt.subplots(figsize=(10, 5))\n",
    "colors = [\"#1f77b4\", \"#ff7f0e\", \"#2ca02c\"]\n",
    "frite.plot(kind='bar', stacked=True, figsize=(20,10), title='Proportion of paths types per length', color=colors, ax=ax)\n"
   ]
  },
  {
   "cell_type": "code",
   "execution_count": 586,
   "metadata": {},
   "outputs": [
    {
     "data": {
      "text/plain": [
       "<AxesSubplot: xlabel='length', ylabel='Count'>"
      ]
     },
     "execution_count": 586,
     "metadata": {},
     "output_type": "execute_result"
    },
    {
     "data": {
      "image/png": "[encoded data removed]",
      "text/plain": [
       "<Figure size 2000x1000 with 1 Axes>"
      ]
     },
     "metadata": {},
     "output_type": "display_data"
    }
   ],
   "source": [
    "# plot the distribution of the type per length using hue type histplot plot and kde=true, \n",
    "sns.set_context(\"paper\")\n",
    "sns.set_style(\"darkgrid\")\n",
    "sns.set_theme(palette=\"flare\")\n",
    "fig, ax = plt.subplots( figsize=(20, 10))\n",
    "# make sure that the x axis is exatly the same as the one given to the functioon\n",
    "\n",
    "# change xticks to range(1, 22) to see the distribution of the length #\n",
    "ax.set_xticks(range(1, 22))\n",
    "\n",
    "sns.histplot(data=df_paths_multiple_u, x=\"length\", hue=\"type\",bins=35,stat = 'count',discrete= True, shrink=0.7,\n",
    "  multiple=\"dodge\", palette=\"flare\", kde=True, ax=ax, kde_kws={'bw_method': 0.28})"
   ]
  },
  {
   "attachments": {},
   "cell_type": "markdown",
   "metadata": {},
   "source": [
    "# Filter paths on length 2 \n"
   ]
  },
  {
   "cell_type": "code",
   "execution_count": 587,
   "metadata": {},
   "outputs": [],
   "source": [
    "# filter paths of length 2 in df_paths_multiple_u and df_paths_multiple\n",
    "df_paths_multiple_u_2 = df_paths_multiple_u[df_paths_multiple_u['length'] > 2]\n",
    "df_paths_multiple_2 = df_paths_multiple[df_paths_multiple['length'] > 2]"
   ]
  },
  {
   "cell_type": "code",
   "execution_count": 588,
   "metadata": {},
   "outputs": [
    {
     "data": {
      "text/plain": [
       "<AxesSubplot: xlabel='percentage_inc_article_sim', ylabel='Percent'>"
      ]
     },
     "execution_count": 588,
     "metadata": {},
     "output_type": "execute_result"
    },
    {
     "data": {
      "image/png": "[encoded data removed]",
      "text/plain": [
       "<Figure size 1000x500 with 2 Axes>"
      ]
     },
     "metadata": {},
     "output_type": "display_data"
    }
   ],
   "source": [
    "fig, ax = plt.subplots(2, figsize=(10, 5))\n",
    "# force y axis to be between 0 and 40\n",
    "ax[0].set_ylim(0, 40)\n",
    "ax[1].set_xlim(0, 1)\n",
    "ax[1].set_ylim(0, 40)\n",
    "ax[0].set_xlim(0, 1)\n",
    "sns.histplot(data=df_paths_multiple_u_2, x=\"percentage_inc_article_sim\",bins=11,stat = 'percent', ax=ax[0])\n",
    "sns.histplot(data=df_paths_multiple_2, x=\"percentage_inc_article_sim\",bins=10,stat = 'percent', ax=ax[1])"
   ]
  },
  {
   "cell_type": "code",
   "execution_count": 589,
   "metadata": {},
   "outputs": [
    {
     "data": {
      "text/plain": [
       "<AxesSubplot: xlabel='percentage_inc_title_sim', ylabel='Percent'>"
      ]
     },
     "execution_count": 589,
     "metadata": {},
     "output_type": "execute_result"
    },
    {
     "data": {
      "image/png": "[encoded data removed]",
      "text/plain": [
       "<Figure size 1000x500 with 2 Axes>"
      ]
     },
     "metadata": {},
     "output_type": "display_data"
    }
   ],
   "source": [
    "fig, ax = plt.subplots(2, figsize=(10, 5))\n",
    "# force y axis to be between 0 and 40\n",
    "ax[0].set_ylim(0, 40)\n",
    "ax[1].set_xlim(0, 1)\n",
    "ax[1].set_ylim(0, 40)\n",
    "ax[0].set_xlim(0, 1)\n",
    "sns.histplot(data=df_paths_multiple_u_2, x=\"percentage_inc_title_sim\",bins=10,stat = 'percent', ax=ax[0])\n",
    "sns.histplot(data=df_paths_multiple_2, x=\"percentage_inc_title_sim\",bins=10,stat = 'percent', ax=ax[1])"
   ]
  },
  {
   "cell_type": "code",
   "execution_count": 590,
   "metadata": {},
   "outputs": [
    {
     "data": {
      "text/plain": [
       "<AxesSubplot: xlabel='score_article_similarity', ylabel='Percent'>"
      ]
     },
     "execution_count": 590,
     "metadata": {},
     "output_type": "execute_result"
    },
    {
     "data": {
      "image/png": "[encoded data removed]",
      "text/plain": [
       "<Figure size 1000x500 with 2 Axes>"
      ]
     },
     "metadata": {},
     "output_type": "display_data"
    }
   ],
   "source": [
    "fig, ax = plt.subplots(2, figsize=(10, 5))\n",
    "# force y axis to be between 0 and 40\n",
    "ax[0].set_ylim(0, 40)\n",
    "ax[1].set_xlim(-1, 1)\n",
    "ax[1].set_ylim(0, 40)\n",
    "ax[0].set_xlim(-1, 1)\n",
    "sns.histplot(data=df_paths_multiple_u_2, x=\"score_article_similarity\",bins=20,stat = 'percent', ax=ax[0])\n",
    "sns.histplot(data=df_paths_multiple_2, x=\"score_article_similarity\",bins=10,stat = 'percent', ax=ax[1])"
   ]
  },
  {
   "cell_type": "code",
   "execution_count": 591,
   "metadata": {},
   "outputs": [
    {
     "data": {
      "text/plain": [
       "<AxesSubplot: xlabel='score_title_similarity', ylabel='Percent'>"
      ]
     },
     "execution_count": 591,
     "metadata": {},
     "output_type": "execute_result"
    },
    {
     "data": {
      "image/png": "[encoded data removed]",
      "text/plain": [
       "<Figure size 1000x500 with 2 Axes>"
      ]
     },
     "metadata": {},
     "output_type": "display_data"
    }
   ],
   "source": [
    "fig, ax = plt.subplots(2, figsize=(10, 5))\n",
    "# force y axis to be between 0 and 40\n",
    "ax[0].set_ylim(0, 40)\n",
    "ax[1].set_xlim(-1, 1)\n",
    "ax[1].set_ylim(0, 40)\n",
    "ax[0].set_xlim(-1, 1)\n",
    "sns.histplot(data=df_paths_multiple_u_2, x=\"score_title_similarity\",bins=20,stat = 'percent', ax=ax[0])\n",
    "sns.histplot(data=df_paths_multiple_2, x=\"score_title_similarity\",bins=21,stat = 'percent', ax=ax[1])"
   ]
  },
  {
   "cell_type": "code",
   "execution_count": null,
   "metadata": {},
   "outputs": [],
   "source": []
  }
 ],
 "metadata": {
  "kernelspec": {
   "display_name": "Python 3",
   "language": "python",
   "name": "python3"
  },
  "language_info": {
   "codemirror_mode": {
    "name": "ipython",
    "version": 3
   },
   "file_extension": ".py",
   "mimetype": "text/x-python",
   "name": "python",
   "nbconvert_exporter": "python",
   "pygments_lexer": "ipython3",
   "version": "3.9.12"
  },
  "vscode": {
   "interpreter": {
    "hash": "b0fa6594d8f4cbf19f97940f81e996739fb7646882a419484c72d19e05852a7e"
   }
  }
 },
 "nbformat": 4,
 "nbformat_minor": 2
}
